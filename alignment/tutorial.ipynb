{
 "cells": [
  {
   "cell_type": "code",
   "execution_count": 1,
   "metadata": {},
   "outputs": [],
   "source": [
    "from alignment import HSP, HSPVertex, Alignment, Transcript"
   ]
  },
  {
   "cell_type": "markdown",
   "metadata": {},
   "source": [
    "1. Examples of HSP usage: init, other methods\n",
    "2. Explanation of HSPVertex\n",
    "3. Alignment: parsing, making, methods\n",
    "4. Transcript: connection to an alignment, methods\n",
    "5. Real-world case: blast (sequence example fetching, output formatting, plotting)"
   ]
  },
  {
   "cell_type": "markdown",
   "metadata": {},
   "source": [
    "## HSP"
   ]
  },
  {
   "cell_type": "markdown",
   "metadata": {},
   "source": [
    "HSP is a high-scoring pair in BLAST notation. It represents an ungapped alignment block of two sequences (i.e. no gaps in both sequences at the same time). Simple `HSP` instance here can be made from coordinates of that block in both sequences and an alignment raw score."
   ]
  },
  {
   "cell_type": "code",
   "execution_count": 2,
   "metadata": {},
   "outputs": [
    {
     "data": {
      "text/plain": [
       "HSP(10, 20, 15, 27, 20, **{})"
      ]
     },
     "execution_count": 2,
     "metadata": {},
     "output_type": "execute_result"
    }
   ],
   "source": [
    "HSP(qstart=10, qend=20, sstart=15, send=27, score=20)"
   ]
  },
  {
   "cell_type": "markdown",
   "metadata": {},
   "source": [
    "Additional information can be provided via `kwargs`."
   ]
  },
  {
   "cell_type": "code",
   "execution_count": 3,
   "metadata": {},
   "outputs": [
    {
     "data": {
      "text/plain": [
       "HSP(10, 20, 15, 27, 20, **{'gaps': 5, 'gapopens': 2, 'mismatch': 7})"
      ]
     },
     "execution_count": 3,
     "metadata": {},
     "output_type": "execute_result"
    }
   ],
   "source": [
    "HSP(qstart=10, qend=20, sstart=15, send=27, score=20, gaps=5, gapopens=2, mismatch=7)"
   ]
  },
  {
   "cell_type": "markdown",
   "metadata": {},
   "source": [
    "### HSP attributes"
   ]
  },
  {
   "cell_type": "code",
   "execution_count": 4,
   "metadata": {},
   "outputs": [],
   "source": [
    "hsp = HSP(qstart=10, qend=20, sstart=15, send=27, score=20, gaps=5, gapopens=2, mismatch=7)"
   ]
  },
  {
   "cell_type": "markdown",
   "metadata": {},
   "source": [
    "Arbitrary initiative attributes can be accessed."
   ]
  },
  {
   "cell_type": "code",
   "execution_count": 5,
   "metadata": {},
   "outputs": [
    {
     "data": {
      "text/plain": [
       "(10, 20, 15, 27, 20)"
      ]
     },
     "execution_count": 5,
     "metadata": {},
     "output_type": "execute_result"
    }
   ],
   "source": [
    "hsp.qstart, hsp.qend, hsp.sstart, hsp.send, hsp.score"
   ]
  },
  {
   "cell_type": "markdown",
   "metadata": {},
   "source": [
    "`kwargs` are stored in `kwargs` dict."
   ]
  },
  {
   "cell_type": "code",
   "execution_count": 6,
   "metadata": {},
   "outputs": [
    {
     "data": {
      "text/plain": [
       "{'gaps': 5, 'gapopens': 2, 'mismatch': 7}"
      ]
     },
     "execution_count": 6,
     "metadata": {},
     "output_type": "execute_result"
    }
   ],
   "source": [
    "hsp.kwargs"
   ]
  },
  {
   "cell_type": "markdown",
   "metadata": {},
   "source": [
    "Both sequences have strandness in HSP: + or -. Query sequence is always +-stranded. If subject end is greater, than subject start, then subject is +-stranded, --stranded otherwise. Sequence orientations are notated as `qstrand` and `sstrand` and are `True`, if +, `False` otherwise."
   ]
  },
  {
   "cell_type": "code",
   "execution_count": 7,
   "metadata": {},
   "outputs": [
    {
     "data": {
      "text/plain": [
       "(True, True)"
      ]
     },
     "execution_count": 7,
     "metadata": {},
     "output_type": "execute_result"
    }
   ],
   "source": [
    "hsp.qstrand, hsp.sstrand"
   ]
  },
  {
   "cell_type": "markdown",
   "metadata": {},
   "source": [
    "HSP has orientation: if both query and subject strands are +, it is direct, reverse otherwise."
   ]
  },
  {
   "cell_type": "code",
   "execution_count": 8,
   "metadata": {},
   "outputs": [
    {
     "data": {
      "text/plain": [
       "'direct'"
      ]
     },
     "execution_count": 8,
     "metadata": {},
     "output_type": "execute_result"
    }
   ],
   "source": [
    "hsp.orientation"
   ]
  },
  {
   "cell_type": "markdown",
   "metadata": {},
   "source": [
    "### HSP representation"
   ]
  },
  {
   "cell_type": "markdown",
   "metadata": {},
   "source": [
    "HSP representation returns a string that can be used to restore original object."
   ]
  },
  {
   "cell_type": "code",
   "execution_count": 9,
   "metadata": {},
   "outputs": [
    {
     "data": {
      "text/plain": [
       "\"HSP(10, 20, 15, 27, 20, **{'gaps': 5, 'gapopens': 2, 'mismatch': 7})\""
      ]
     },
     "execution_count": 9,
     "metadata": {},
     "output_type": "execute_result"
    }
   ],
   "source": [
    "repr(hsp)"
   ]
  },
  {
   "cell_type": "markdown",
   "metadata": {},
   "source": [
    "String representation of HSP provides verbal representation of HSP with query and subject coordinates, score and orientation."
   ]
  },
  {
   "cell_type": "code",
   "execution_count": 10,
   "metadata": {},
   "outputs": [
    {
     "data": {
      "text/plain": [
       "'q 10:20 s 15:27 score 20 direct'"
      ]
     },
     "execution_count": 10,
     "metadata": {},
     "output_type": "execute_result"
    }
   ],
   "source": [
    "str(hsp)"
   ]
  },
  {
   "cell_type": "markdown",
   "metadata": {},
   "source": [
    "### HSP methods"
   ]
  },
  {
   "cell_type": "markdown",
   "metadata": {},
   "source": [
    "#### Precedence"
   ]
  },
  {
   "cell_type": "markdown",
   "metadata": {},
   "source": [
    "Precedence is occured when two HSPs are oriented identically and do not intersect on both query and subject sequences. Take `hsp1` and `hsp2` for example. `hsp1` precedes `hsp2` in query sequence, if end of `hsp1` is lesser than start of `hsp2`. In subject sequence in case of direct HSPs orientations the rule the same. If orientations are reverse, the rule is opposite. If orientations are inconsistent, precedence cannot be defined. Only if `hsp1` precedes `hsp2` on both query and subject sequences, `hsp1` precedes `hsp2`."
   ]
  },
  {
   "cell_type": "code",
   "execution_count": 11,
   "metadata": {},
   "outputs": [
    {
     "data": {
      "text/plain": [
       "True"
      ]
     },
     "execution_count": 11,
     "metadata": {},
     "output_type": "execute_result"
    }
   ],
   "source": [
    "hsp1 = HSP(qstart=10, qend=20, sstart=15, send=27, score=20)\n",
    "hsp2 = HSP(qstart=22, qend=25, sstart=30, send=36, score=10)\n",
    "hsp1.precede(hsp2)"
   ]
  },
  {
   "cell_type": "markdown",
   "metadata": {},
   "source": [
    "The method does not distinguish between succeeding and intersecting."
   ]
  },
  {
   "cell_type": "code",
   "execution_count": 12,
   "metadata": {},
   "outputs": [],
   "source": [
    "hsp3 = HSP(qstart=17, qend=25, sstart=30, send=36, score=11)"
   ]
  },
  {
   "cell_type": "code",
   "execution_count": 13,
   "metadata": {},
   "outputs": [
    {
     "data": {
      "text/plain": [
       "(False, False)"
      ]
     },
     "execution_count": 13,
     "metadata": {},
     "output_type": "execute_result"
    }
   ],
   "source": [
    "hsp1.precede(hsp3), hsp2.precede(hsp1)"
   ]
  },
  {
   "cell_type": "markdown",
   "metadata": {},
   "source": [
    "The exception is thrown in case of inconsistent orientations."
   ]
  },
  {
   "cell_type": "code",
   "execution_count": 14,
   "metadata": {},
   "outputs": [
    {
     "ename": "ValueError",
     "evalue": "HSPs have inconsistent orientations: direct for q 10:20 s 15:27 score 20 direct and reverse for q 22:25 s 36:30 score 10 reverse.",
     "output_type": "error",
     "traceback": [
      "\u001b[0;31m---------------------------------------------------------------------------\u001b[0m",
      "\u001b[0;31mValueError\u001b[0m                                Traceback (most recent call last)",
      "\u001b[0;32m<ipython-input-14-08c7887a9cd0>\u001b[0m in \u001b[0;36m<module>\u001b[0;34m\u001b[0m\n\u001b[1;32m      1\u001b[0m \u001b[0mhsp4\u001b[0m \u001b[0;34m=\u001b[0m \u001b[0mHSP\u001b[0m\u001b[0;34m(\u001b[0m\u001b[0mqstart\u001b[0m\u001b[0;34m=\u001b[0m\u001b[0;36m22\u001b[0m\u001b[0;34m,\u001b[0m \u001b[0mqend\u001b[0m\u001b[0;34m=\u001b[0m\u001b[0;36m25\u001b[0m\u001b[0;34m,\u001b[0m \u001b[0msstart\u001b[0m\u001b[0;34m=\u001b[0m\u001b[0;36m36\u001b[0m\u001b[0;34m,\u001b[0m \u001b[0msend\u001b[0m\u001b[0;34m=\u001b[0m\u001b[0;36m30\u001b[0m\u001b[0;34m,\u001b[0m \u001b[0mscore\u001b[0m\u001b[0;34m=\u001b[0m\u001b[0;36m10\u001b[0m\u001b[0;34m)\u001b[0m\u001b[0;34m\u001b[0m\u001b[0;34m\u001b[0m\u001b[0m\n\u001b[0;32m----> 2\u001b[0;31m \u001b[0mhsp1\u001b[0m\u001b[0;34m.\u001b[0m\u001b[0mprecede\u001b[0m\u001b[0;34m(\u001b[0m\u001b[0mhsp4\u001b[0m\u001b[0;34m)\u001b[0m\u001b[0;34m\u001b[0m\u001b[0;34m\u001b[0m\u001b[0m\n\u001b[0m",
      "\u001b[0;32m~/github_miscellaneous/alignment.py\u001b[0m in \u001b[0;36mprecede\u001b[0;34m(self, other)\u001b[0m\n\u001b[1;32m     60\u001b[0m             \u001b[0;34m(\u001b[0m\u001b[0mself\u001b[0m\u001b[0;34m.\u001b[0m\u001b[0morientation\u001b[0m \u001b[0;32mis\u001b[0m \u001b[0;32mnot\u001b[0m \u001b[0;32mNone\u001b[0m\u001b[0;34m)\u001b[0m \u001b[0;32mand\u001b[0m\u001b[0;34m\u001b[0m\u001b[0;34m\u001b[0m\u001b[0m\n\u001b[1;32m     61\u001b[0m             (other.orientation is not None)):\n\u001b[0;32m---> 62\u001b[0;31m             raise ValueError(f\"HSPs have inconsistent orientations: \"\n\u001b[0m\u001b[1;32m     63\u001b[0m                              \u001b[0;34mf\"{self.orientation} for {self} and \"\u001b[0m\u001b[0;34m\u001b[0m\u001b[0;34m\u001b[0m\u001b[0m\n\u001b[1;32m     64\u001b[0m                              f\"{other.orientation} for {other}.\")\n",
      "\u001b[0;31mValueError\u001b[0m: HSPs have inconsistent orientations: direct for q 10:20 s 15:27 score 20 direct and reverse for q 22:25 s 36:30 score 10 reverse."
     ]
    }
   ],
   "source": [
    "hsp4 = HSP(qstart=22, qend=25, sstart=36, send=30, score=10)\n",
    "hsp1.precede(hsp4)"
   ]
  },
  {
   "cell_type": "markdown",
   "metadata": {},
   "source": [
    "#### Copy"
   ]
  },
  {
   "cell_type": "markdown",
   "metadata": {},
   "source": [
    "HSP can be copied to another instance."
   ]
  },
  {
   "cell_type": "code",
   "execution_count": 15,
   "metadata": {},
   "outputs": [
    {
     "data": {
      "text/plain": [
       "HSP(10, 20, 15, 27, 20, **{'gaps': 5, 'gapopens': 2, 'mismatch': 7})"
      ]
     },
     "execution_count": 15,
     "metadata": {},
     "output_type": "execute_result"
    }
   ],
   "source": [
    "hsp.copy()"
   ]
  },
  {
   "cell_type": "markdown",
   "metadata": {},
   "source": [
    "#### Interplay with dictionary representation"
   ]
  },
  {
   "cell_type": "markdown",
   "metadata": {},
   "source": [
    "HSP can be converted to dictionary representation. It is useful in case of saving to json. Full state of HSP is dumped so user can operate with HSPs both as python objects or as regular dictionaries."
   ]
  },
  {
   "cell_type": "code",
   "execution_count": 16,
   "metadata": {},
   "outputs": [
    {
     "data": {
      "text/plain": [
       "{'qstart': 10,\n",
       " 'qend': 20,\n",
       " 'sstart': 15,\n",
       " 'send': 27,\n",
       " 'score': 20,\n",
       " 'kwargs': {'gaps': 5, 'gapopens': 2, 'mismatch': 7},\n",
       " 'qstrand': True,\n",
       " 'sstrand': True,\n",
       " 'orientation': 'direct'}"
      ]
     },
     "execution_count": 16,
     "metadata": {},
     "output_type": "execute_result"
    }
   ],
   "source": [
    "hsp.to_dict()"
   ]
  },
  {
   "cell_type": "markdown",
   "metadata": {},
   "source": [
    "HSP can be restored from dictionary representation."
   ]
  },
  {
   "cell_type": "code",
   "execution_count": 17,
   "metadata": {},
   "outputs": [
    {
     "data": {
      "text/plain": [
       "HSP(10, 20, 15, 27, 20, **{'gaps': 5, 'gapopens': 2, 'mismatch': 7})"
      ]
     },
     "execution_count": 17,
     "metadata": {},
     "output_type": "execute_result"
    }
   ],
   "source": [
    "HSP.from_dict(hsp.to_dict())"
   ]
  },
  {
   "cell_type": "markdown",
   "metadata": {},
   "source": [
    "#### Distance"
   ]
  },
  {
   "cell_type": "markdown",
   "metadata": {},
   "source": [
    "Distance between two HSPs of same orientation is calculated as sum of distances in query and subject sequence multiplied by gap extension penalty added with gap opening penalty and subtracted with the score of the following HSP. In case none HSP precedes the other one (overlap or different, non-sequential placement) the distance is set to infinity.\n"
   ]
  },
  {
   "cell_type": "code",
   "execution_count": 18,
   "metadata": {},
   "outputs": [
    {
     "data": {
      "text/plain": [
       "5"
      ]
     },
     "execution_count": 18,
     "metadata": {},
     "output_type": "execute_result"
    }
   ],
   "source": [
    "hsp1.distance(hsp2)"
   ]
  },
  {
   "cell_type": "markdown",
   "metadata": {},
   "source": [
    "Distance is symmetric."
   ]
  },
  {
   "cell_type": "code",
   "execution_count": 19,
   "metadata": {},
   "outputs": [
    {
     "data": {
      "text/plain": [
       "5"
      ]
     },
     "execution_count": 19,
     "metadata": {},
     "output_type": "execute_result"
    }
   ],
   "source": [
    "hsp2.distance(hsp1)"
   ]
  },
  {
   "cell_type": "markdown",
   "metadata": {},
   "source": [
    "Infinity distance in case of overlap is required for downstream graph operations."
   ]
  },
  {
   "cell_type": "code",
   "execution_count": 20,
   "metadata": {},
   "outputs": [
    {
     "data": {
      "text/plain": [
       "inf"
      ]
     },
     "execution_count": 20,
     "metadata": {},
     "output_type": "execute_result"
    }
   ],
   "source": [
    "hsp1.distance(hsp3)"
   ]
  },
  {
   "cell_type": "markdown",
   "metadata": {},
   "source": [
    "#### Boundary processing"
   ]
  },
  {
   "cell_type": "markdown",
   "metadata": {},
   "source": [
    "HSP can be pruned on query or subject sequence from left or right (4 combinations). Its raw score is decreased proportionally. If HSP is pruned on query sequence, its coordinates on subject sequence are recalculated considering HSP as a straight in query-subject coordinates."
   ]
  },
  {
   "cell_type": "code",
   "execution_count": 21,
   "metadata": {},
   "outputs": [
    {
     "name": "stdout",
     "output_type": "stream",
     "text": [
      "q 10:20 s 15:27 score 20 direct\n"
     ]
    }
   ],
   "source": [
    "print(hsp1)"
   ]
  },
  {
   "cell_type": "code",
   "execution_count": 22,
   "metadata": {},
   "outputs": [],
   "source": [
    "pruned_hsp1 = HSP._process_boundary(hsp1, point=12, type_='qleft', inplace=False)"
   ]
  },
  {
   "cell_type": "code",
   "execution_count": 23,
   "metadata": {},
   "outputs": [],
   "source": [
    "pruned_hsp2 = HSP._process_boundary(hsp1, point=12, type_='qright', inplace=False)"
   ]
  },
  {
   "cell_type": "code",
   "execution_count": 24,
   "metadata": {},
   "outputs": [],
   "source": [
    "pruned_hsp3 = HSP._process_boundary(hsp1, point=17, type_='sleft', inplace=False)"
   ]
  },
  {
   "cell_type": "code",
   "execution_count": 25,
   "metadata": {},
   "outputs": [],
   "source": [
    "pruned_hsp4 = HSP._process_boundary(hsp1, point=17, type_='sright', inplace=False)"
   ]
  },
  {
   "cell_type": "markdown",
   "metadata": {},
   "source": [
    "Changing `type_` from left to right changes coordinates and score."
   ]
  },
  {
   "cell_type": "code",
   "execution_count": 26,
   "metadata": {},
   "outputs": [
    {
     "name": "stdout",
     "output_type": "stream",
     "text": [
      "q 12:20 s 17:27 score 16.0 direct\n",
      "q 10:12 s 15:17 score 4.0 direct\n"
     ]
    }
   ],
   "source": [
    "print(pruned_hsp1, pruned_hsp2, sep='\\n')"
   ]
  },
  {
   "cell_type": "code",
   "execution_count": 27,
   "metadata": {},
   "outputs": [
    {
     "name": "stdout",
     "output_type": "stream",
     "text": [
      "q 12:20 s 17:27 score 16.666666666666668 direct\n",
      "q 10:12 s 15:17 score 3.333333333333333 direct\n"
     ]
    }
   ],
   "source": [
    "print(pruned_hsp3, pruned_hsp4, sep='\\n')"
   ]
  },
  {
   "cell_type": "markdown",
   "metadata": {},
   "source": [
    "Chosing relative points for qleft (12 on query) and sleft (17 on subject) results in same coordinates, but in different score because score decrease is calculated regarding the sequence on which boundary is set."
   ]
  },
  {
   "cell_type": "code",
   "execution_count": 28,
   "metadata": {},
   "outputs": [
    {
     "name": "stdout",
     "output_type": "stream",
     "text": [
      "q 12:20 s 17:27 score 16.0 direct\n",
      "q 12:20 s 17:27 score 16.666666666666668 direct\n"
     ]
    }
   ],
   "source": [
    "print(pruned_hsp1, pruned_hsp3, sep='\\n')"
   ]
  },
  {
   "cell_type": "code",
   "execution_count": 29,
   "metadata": {},
   "outputs": [
    {
     "name": "stdout",
     "output_type": "stream",
     "text": [
      "q 10:12 s 15:17 score 4.0 direct\n",
      "q 10:12 s 15:17 score 3.333333333333333 direct\n"
     ]
    }
   ],
   "source": [
    "print(pruned_hsp2, pruned_hsp4, sep='\\n')"
   ]
  },
  {
   "cell_type": "markdown",
   "metadata": {},
   "source": [
    "Overall, boundary processing heavily relies on geometric representaion of HSP as a section in query sequence - subject sequence plane."
   ]
  },
  {
   "cell_type": "markdown",
   "metadata": {},
   "source": [
    "## HSPVertex"
   ]
  },
  {
   "cell_type": "markdown",
   "metadata": {},
   "source": [
    "It's a successor of `HSP` class for handling graph operations. Contains certain attributes: list of successors, best score and best previous vertex."
   ]
  },
  {
   "cell_type": "markdown",
   "metadata": {},
   "source": [
    "## Alignment"
   ]
  },
  {
   "cell_type": "markdown",
   "metadata": {},
   "source": [
    "Represents a BLAST alignment of two sequences (NOT an alignment of a sequence against a database!). Contains a list of HSPs and other additional information. Allows to read BLAST alignment from file produced with `-outfmt '7 std score'`, plot an alignment map, read from and write to dictionary representation (hence, JSON) and find best transcripts based on some strategies."
   ]
  },
  {
   "cell_type": "markdown",
   "metadata": {},
   "source": [
    "### Construction from list of HSPs"
   ]
  },
  {
   "cell_type": "markdown",
   "metadata": {},
   "source": [
    "An `Alignment` instance can be initialized from the list of HSPs."
   ]
  },
  {
   "cell_type": "code",
   "execution_count": 30,
   "metadata": {},
   "outputs": [],
   "source": [
    "hsp_data = [[1, 10, 2, 11, 10],\n",
    "            [8, 10, 47, 55, 15],\n",
    "            [8, 15, 5, 12, 10],\n",
    "            [20, 25, 13, 18, 15],\n",
    "            [27, 30, 22, 24, 10],\n",
    "            [35, 40, 30, 36, 15],\n",
    "            [38, 45, 36, 47, 10],\n",
    "            [42, 48, 40, 47, 15],\n",
    "            [50, 55, 50, 55, 10],\n",
    "            [54, 70, 66, 72, 15],\n",
    "           ]"
   ]
  },
  {
   "cell_type": "code",
   "execution_count": 31,
   "metadata": {},
   "outputs": [],
   "source": [
    "vertices = [HSPVertex(*i) for i in hsp_data]"
   ]
  },
  {
   "cell_type": "code",
   "execution_count": 32,
   "metadata": {},
   "outputs": [],
   "source": [
    "alignment = Alignment(vertices)"
   ]
  },
  {
   "cell_type": "markdown",
   "metadata": {},
   "source": [
    "User can access list of all HSPs."
   ]
  },
  {
   "cell_type": "code",
   "execution_count": 33,
   "metadata": {},
   "outputs": [
    {
     "data": {
      "text/plain": [
       "[HSPVertex(1, 10, 2, 11, 10, **{}),\n",
       " HSPVertex(8, 10, 47, 55, 15, **{}),\n",
       " HSPVertex(8, 15, 5, 12, 10, **{}),\n",
       " HSPVertex(20, 25, 13, 18, 15, **{}),\n",
       " HSPVertex(27, 30, 22, 24, 10, **{}),\n",
       " HSPVertex(35, 40, 30, 36, 15, **{}),\n",
       " HSPVertex(38, 45, 36, 47, 10, **{}),\n",
       " HSPVertex(42, 48, 40, 47, 15, **{}),\n",
       " HSPVertex(50, 55, 50, 55, 10, **{}),\n",
       " HSPVertex(54, 70, 66, 72, 15, **{})]"
      ]
     },
     "execution_count": 33,
     "metadata": {},
     "output_type": "execute_result"
    }
   ],
   "source": [
    "alignment._all_HSPs"
   ]
  },
  {
   "cell_type": "markdown",
   "metadata": {},
   "source": [
    "If query and subject sequences lengths are not passed to a constructor, lengths are calculated regarding HSP coordinates."
   ]
  },
  {
   "cell_type": "code",
   "execution_count": 34,
   "metadata": {},
   "outputs": [
    {
     "data": {
      "text/plain": [
       "(71, 73)"
      ]
     },
     "execution_count": 34,
     "metadata": {},
     "output_type": "execute_result"
    }
   ],
   "source": [
    "alignment.qlen, alignment.slen"
   ]
  },
  {
   "cell_type": "markdown",
   "metadata": {},
   "source": [
    "Alignment can be viewed as a plot in query sequence - subject sequence plane with each section representing one HSP."
   ]
  },
  {
   "cell_type": "code",
   "execution_count": 35,
   "metadata": {},
   "outputs": [
    {
     "data": {
      "image/png": "[encoded data removed]",
      "text/plain": [
       "<Figure size 432x288 with 1 Axes>"
      ]
     },
     "metadata": {
      "needs_background": "light"
     },
     "output_type": "display_data"
    }
   ],
   "source": [
    "alignment.plot_alignment()"
   ]
  },
  {
   "cell_type": "markdown",
   "metadata": {},
   "source": [
    "### Alignment representations"
   ]
  },
  {
   "cell_type": "code",
   "execution_count": 36,
   "metadata": {},
   "outputs": [
    {
     "data": {
      "text/plain": [
       "Alignment([HSPVertex(1, 10, 2, 11, 10, **{}), HSPVertex(8, 10, 47, 55, 15, **{}), HSPVertex(8, 15, 5, 12, 10, **{}), HSPVertex(20, 25, 13, 18, 15, **{}), HSPVertex(27, 30, 22, 24, 10, **{}), HSPVertex(35, 40, 30, 36, 15, **{}), HSPVertex(38, 45, 36, 47, 10, **{}), HSPVertex(42, 48, 40, 47, 15, **{}), HSPVertex(50, 55, 50, 55, 10, **{}), HSPVertex(54, 70, 66, 72, 15, **{})], 71, 73)"
      ]
     },
     "execution_count": 36,
     "metadata": {},
     "output_type": "execute_result"
    }
   ],
   "source": [
    "alignment"
   ]
  },
  {
   "cell_type": "code",
   "execution_count": 37,
   "metadata": {},
   "outputs": [
    {
     "name": "stdout",
     "output_type": "stream",
     "text": [
      "Alignment of 71 and 73\n",
      "q 1:10 s 2:11 score 10 direct\n",
      "\t\n",
      "q 8:10 s 47:55 score 15 direct\n",
      "\t\n",
      "q 8:15 s 5:12 score 10 direct\n",
      "\t\n",
      "q 20:25 s 13:18 score 15 direct\n",
      "\t\n",
      "q 27:30 s 22:24 score 10 direct\n",
      "\t\n",
      "q 35:40 s 30:36 score 15 direct\n",
      "\t\n",
      "q 38:45 s 36:47 score 10 direct\n",
      "\t\n",
      "q 42:48 s 40:47 score 15 direct\n",
      "\t\n",
      "q 50:55 s 50:55 score 10 direct\n",
      "\t\n",
      "q 54:70 s 66:72 score 15 direct\n",
      "\t\n"
     ]
    }
   ],
   "source": [
    "print(alignment)"
   ]
  },
  {
   "cell_type": "markdown",
   "metadata": {},
   "source": [
    "### Filtering by score"
   ]
  },
  {
   "cell_type": "markdown",
   "metadata": {},
   "source": [
    "Alignment HSPs can be filtered by score. Actual HSPs are stored in `.HSPs` and only them are taken into account for other operations. All HSPs are stored in `._all_HSPs`."
   ]
  },
  {
   "cell_type": "code",
   "execution_count": 38,
   "metadata": {},
   "outputs": [
    {
     "data": {
      "text/plain": [
       "[HSPVertex(1, 10, 2, 11, 10, **{}),\n",
       " HSPVertex(8, 10, 47, 55, 15, **{}),\n",
       " HSPVertex(8, 15, 5, 12, 10, **{}),\n",
       " HSPVertex(20, 25, 13, 18, 15, **{}),\n",
       " HSPVertex(27, 30, 22, 24, 10, **{}),\n",
       " HSPVertex(35, 40, 30, 36, 15, **{}),\n",
       " HSPVertex(38, 45, 36, 47, 10, **{}),\n",
       " HSPVertex(42, 48, 40, 47, 15, **{}),\n",
       " HSPVertex(50, 55, 50, 55, 10, **{}),\n",
       " HSPVertex(54, 70, 66, 72, 15, **{})]"
      ]
     },
     "execution_count": 38,
     "metadata": {},
     "output_type": "execute_result"
    }
   ],
   "source": [
    "alignment.HSPs"
   ]
  },
  {
   "cell_type": "code",
   "execution_count": 39,
   "metadata": {},
   "outputs": [
    {
     "data": {
      "text/plain": [
       "[HSPVertex(1, 10, 2, 11, 10, **{}),\n",
       " HSPVertex(8, 10, 47, 55, 15, **{}),\n",
       " HSPVertex(8, 15, 5, 12, 10, **{}),\n",
       " HSPVertex(20, 25, 13, 18, 15, **{}),\n",
       " HSPVertex(27, 30, 22, 24, 10, **{}),\n",
       " HSPVertex(35, 40, 30, 36, 15, **{}),\n",
       " HSPVertex(38, 45, 36, 47, 10, **{}),\n",
       " HSPVertex(42, 48, 40, 47, 15, **{}),\n",
       " HSPVertex(50, 55, 50, 55, 10, **{}),\n",
       " HSPVertex(54, 70, 66, 72, 15, **{})]"
      ]
     },
     "execution_count": 39,
     "metadata": {},
     "output_type": "execute_result"
    }
   ],
   "source": [
    "alignment._all_HSPs"
   ]
  },
  {
   "cell_type": "code",
   "execution_count": 40,
   "metadata": {},
   "outputs": [],
   "source": [
    "alignment.filter_by_score(10)"
   ]
  },
  {
   "cell_type": "code",
   "execution_count": 41,
   "metadata": {},
   "outputs": [
    {
     "data": {
      "text/plain": [
       "[HSPVertex(8, 10, 47, 55, 15, **{}),\n",
       " HSPVertex(20, 25, 13, 18, 15, **{}),\n",
       " HSPVertex(35, 40, 30, 36, 15, **{}),\n",
       " HSPVertex(42, 48, 40, 47, 15, **{}),\n",
       " HSPVertex(54, 70, 66, 72, 15, **{})]"
      ]
     },
     "execution_count": 41,
     "metadata": {},
     "output_type": "execute_result"
    }
   ],
   "source": [
    "alignment.HSPs"
   ]
  },
  {
   "cell_type": "code",
   "execution_count": 42,
   "metadata": {},
   "outputs": [
    {
     "data": {
      "text/plain": [
       "[HSPVertex(1, 10, 2, 11, 10, **{}),\n",
       " HSPVertex(8, 10, 47, 55, 15, **{}),\n",
       " HSPVertex(8, 15, 5, 12, 10, **{}),\n",
       " HSPVertex(20, 25, 13, 18, 15, **{}),\n",
       " HSPVertex(27, 30, 22, 24, 10, **{}),\n",
       " HSPVertex(35, 40, 30, 36, 15, **{}),\n",
       " HSPVertex(38, 45, 36, 47, 10, **{}),\n",
       " HSPVertex(42, 48, 40, 47, 15, **{}),\n",
       " HSPVertex(50, 55, 50, 55, 10, **{}),\n",
       " HSPVertex(54, 70, 66, 72, 15, **{})]"
      ]
     },
     "execution_count": 42,
     "metadata": {},
     "output_type": "execute_result"
    }
   ],
   "source": [
    "alignment._all_HSPs"
   ]
  },
  {
   "cell_type": "markdown",
   "metadata": {},
   "source": [
    "Dropped HSPs are plotted grey."
   ]
  },
  {
   "cell_type": "code",
   "execution_count": 43,
   "metadata": {},
   "outputs": [
    {
     "data": {
      "image/png": "[encoded data removed]",
      "text/plain": [
       "<Figure size 432x288 with 1 Axes>"
      ]
     },
     "metadata": {
      "needs_background": "light"
     },
     "output_type": "display_data"
    }
   ],
   "source": [
    "alignment.plot_alignment()"
   ]
  },
  {
   "cell_type": "markdown",
   "metadata": {},
   "source": [
    "Filtering state can be accessed from `.filtered` attribute."
   ]
  },
  {
   "cell_type": "code",
   "execution_count": 44,
   "metadata": {},
   "outputs": [
    {
     "data": {
      "text/plain": [
       "True"
      ]
     },
     "execution_count": 44,
     "metadata": {},
     "output_type": "execute_result"
    }
   ],
   "source": [
    "alignment.filtered"
   ]
  },
  {
   "cell_type": "markdown",
   "metadata": {},
   "source": [
    "Filter can be reset."
   ]
  },
  {
   "cell_type": "code",
   "execution_count": 45,
   "metadata": {},
   "outputs": [],
   "source": [
    "alignment.reset_filter_by_score()"
   ]
  },
  {
   "cell_type": "code",
   "execution_count": 46,
   "metadata": {},
   "outputs": [
    {
     "data": {
      "text/plain": [
       "[HSPVertex(1, 10, 2, 11, 10, **{}),\n",
       " HSPVertex(8, 10, 47, 55, 15, **{}),\n",
       " HSPVertex(8, 15, 5, 12, 10, **{}),\n",
       " HSPVertex(20, 25, 13, 18, 15, **{}),\n",
       " HSPVertex(27, 30, 22, 24, 10, **{}),\n",
       " HSPVertex(35, 40, 30, 36, 15, **{}),\n",
       " HSPVertex(38, 45, 36, 47, 10, **{}),\n",
       " HSPVertex(42, 48, 40, 47, 15, **{}),\n",
       " HSPVertex(50, 55, 50, 55, 10, **{}),\n",
       " HSPVertex(54, 70, 66, 72, 15, **{})]"
      ]
     },
     "execution_count": 46,
     "metadata": {},
     "output_type": "execute_result"
    }
   ],
   "source": [
    "alignment.HSPs"
   ]
  },
  {
   "cell_type": "code",
   "execution_count": 47,
   "metadata": {},
   "outputs": [
    {
     "data": {
      "text/plain": [
       "False"
      ]
     },
     "execution_count": 47,
     "metadata": {},
     "output_type": "execute_result"
    }
   ],
   "source": [
    "alignment.filtered"
   ]
  },
  {
   "cell_type": "code",
   "execution_count": 48,
   "metadata": {},
   "outputs": [
    {
     "data": {
      "image/png": "[encoded data removed]",
      "text/plain": [
       "<Figure size 432x288 with 1 Axes>"
      ]
     },
     "metadata": {
      "needs_background": "light"
     },
     "output_type": "display_data"
    }
   ],
   "source": [
    "alignment.plot_alignment()"
   ]
  },
  {
   "cell_type": "markdown",
   "metadata": {},
   "source": [
    "### Changing coordinates"
   ]
  },
  {
   "cell_type": "markdown",
   "metadata": {},
   "source": [
    "Any method that changes HSP coordinates returns new `Alignment` instance."
   ]
  },
  {
   "cell_type": "markdown",
   "metadata": {},
   "source": [
    "First, one can decide to translate alignment coordinates to genomic ones. To do that, one should provide genomic coordinates of alignment zeros."
   ]
  },
  {
   "cell_type": "code",
   "execution_count": 49,
   "metadata": {},
   "outputs": [],
   "source": [
    "genomic_alignment = alignment.set_zero(qzero=10000, szero=15000)"
   ]
  },
  {
   "cell_type": "code",
   "execution_count": 50,
   "metadata": {},
   "outputs": [
    {
     "name": "stdout",
     "output_type": "stream",
     "text": [
      "Alignment of 10071 and 15073\n",
      "q 10001:10010 s 15002:15011 score 10 direct\n",
      "q 10008:10010 s 15047:15055 score 15 direct\n",
      "q 10008:10015 s 15005:15012 score 10 direct\n",
      "q 10020:10025 s 15013:15018 score 15 direct\n",
      "q 10027:10030 s 15022:15024 score 10 direct\n",
      "q 10035:10040 s 15030:15036 score 15 direct\n",
      "q 10038:10045 s 15036:15047 score 10 direct\n",
      "q 10042:10048 s 15040:15047 score 15 direct\n",
      "q 10050:10055 s 15050:15055 score 10 direct\n",
      "q 10054:10070 s 15066:15072 score 15 direct\n"
     ]
    }
   ],
   "source": [
    "print(genomic_alignment)"
   ]
  },
  {
   "cell_type": "code",
   "execution_count": 51,
   "metadata": {},
   "outputs": [
    {
     "data": {
      "image/png": "[encoded data removed]",
      "text/plain": [
       "<Figure size 432x288 with 1 Axes>"
      ]
     },
     "metadata": {
      "needs_background": "light"
     },
     "output_type": "display_data"
    }
   ],
   "source": [
    "genomic_alignment.plot_alignment()"
   ]
  },
  {
   "cell_type": "markdown",
   "metadata": {},
   "source": [
    "Second, one can decide to select only those HSPs that fit into certain section of query and/or subject genome."
   ]
  },
  {
   "cell_type": "code",
   "execution_count": 52,
   "metadata": {},
   "outputs": [],
   "source": [
    "cut_alignment = alignment.cut_coordinates(qleft=10, qright=60, sleft=7, sright=71)"
   ]
  },
  {
   "cell_type": "markdown",
   "metadata": {},
   "source": [
    "HSPs are filtered out or cut with `HSP._process_boundary`."
   ]
  },
  {
   "cell_type": "code",
   "execution_count": 53,
   "metadata": {},
   "outputs": [
    {
     "name": "stdout",
     "output_type": "stream",
     "text": [
      "Alignment of 71 and 73\n",
      "q 10:10 s 11:11 score 0.0 direct\n",
      "q 10:10 s 55:55 score 0.0 direct\n",
      "q 10:15 s 7:12 score 7.142857142857143 direct\n",
      "q 20:25 s 13:18 score 15 direct\n",
      "q 27:30 s 22:24 score 10 direct\n",
      "q 35:40 s 30:36 score 15 direct\n",
      "q 38:45 s 36:47 score 10 direct\n",
      "q 42:48 s 40:47 score 15 direct\n",
      "q 50:55 s 50:55 score 10 direct\n",
      "q 54:60 s 66:68 score 5.625 direct\n"
     ]
    }
   ],
   "source": [
    "print(cut_alignment)"
   ]
  },
  {
   "cell_type": "code",
   "execution_count": 54,
   "metadata": {},
   "outputs": [
    {
     "data": {
      "image/png": "[encoded data removed]",
      "text/plain": [
       "<Figure size 432x288 with 1 Axes>"
      ]
     },
     "metadata": {
      "needs_background": "light"
     },
     "output_type": "display_data"
    }
   ],
   "source": [
    "cut_alignment.plot_alignment()"
   ]
  },
  {
   "cell_type": "markdown",
   "metadata": {},
   "source": [
    "### Transcripts"
   ]
  },
  {
   "cell_type": "markdown",
   "metadata": {},
   "source": [
    "There are two modes for transcript assembly from an `Alignment` instance. The first is to get all transcripts, i.e. all possible transcripts in both orientations from non-overlapping HSPs with the greatest possible number of HSPs. It means that transcripts are build from sequence of HSPs (defined by `HSP.precede` method). If two or more HSPs overlap each other, new transcripts are branched to avoid HSP overlap."
   ]
  },
  {
   "cell_type": "code",
   "execution_count": 55,
   "metadata": {},
   "outputs": [
    {
     "name": "stdout",
     "output_type": "stream",
     "text": [
      "direct 9\n",
      "reverse 0\n"
     ]
    }
   ],
   "source": [
    "for orientation, transcripts in alignment.get_all_transcripts().items():\n",
    "    print(orientation, len(transcripts))"
   ]
  },
  {
   "cell_type": "markdown",
   "metadata": {},
   "source": [
    "A dictionary is returned with lists of `Transcript` instances for each orientation."
   ]
  },
  {
   "cell_type": "code",
   "execution_count": 56,
   "metadata": {},
   "outputs": [
    {
     "data": {
      "text/plain": [
       "{'direct': [Transcript([HSPVertex(8, 10, 47, 55, 15, **{}), HSPVertex(54, 70, 66, 72, 15, **{})]),\n",
       "  Transcript([HSPVertex(8, 15, 5, 12, 10, **{}), HSPVertex(20, 25, 13, 18, 15, **{}), HSPVertex(27, 30, 22, 24, 10, **{}), HSPVertex(38, 45, 36, 47, 10, **{}), HSPVertex(54, 70, 66, 72, 15, **{})]),\n",
       "  Transcript([HSPVertex(8, 15, 5, 12, 10, **{}), HSPVertex(20, 25, 13, 18, 15, **{}), HSPVertex(27, 30, 22, 24, 10, **{}), HSPVertex(38, 45, 36, 47, 10, **{}), HSPVertex(50, 55, 50, 55, 10, **{})]),\n",
       "  Transcript([HSPVertex(8, 15, 5, 12, 10, **{}), HSPVertex(20, 25, 13, 18, 15, **{}), HSPVertex(27, 30, 22, 24, 10, **{}), HSPVertex(35, 40, 30, 36, 15, **{}), HSPVertex(42, 48, 40, 47, 15, **{}), HSPVertex(54, 70, 66, 72, 15, **{})]),\n",
       "  Transcript([HSPVertex(8, 15, 5, 12, 10, **{}), HSPVertex(20, 25, 13, 18, 15, **{}), HSPVertex(27, 30, 22, 24, 10, **{}), HSPVertex(35, 40, 30, 36, 15, **{}), HSPVertex(42, 48, 40, 47, 15, **{}), HSPVertex(50, 55, 50, 55, 10, **{})]),\n",
       "  Transcript([HSPVertex(1, 10, 2, 11, 10, **{}), HSPVertex(20, 25, 13, 18, 15, **{}), HSPVertex(27, 30, 22, 24, 10, **{}), HSPVertex(38, 45, 36, 47, 10, **{}), HSPVertex(54, 70, 66, 72, 15, **{})]),\n",
       "  Transcript([HSPVertex(1, 10, 2, 11, 10, **{}), HSPVertex(20, 25, 13, 18, 15, **{}), HSPVertex(27, 30, 22, 24, 10, **{}), HSPVertex(38, 45, 36, 47, 10, **{}), HSPVertex(50, 55, 50, 55, 10, **{})]),\n",
       "  Transcript([HSPVertex(1, 10, 2, 11, 10, **{}), HSPVertex(20, 25, 13, 18, 15, **{}), HSPVertex(27, 30, 22, 24, 10, **{}), HSPVertex(35, 40, 30, 36, 15, **{}), HSPVertex(42, 48, 40, 47, 15, **{}), HSPVertex(54, 70, 66, 72, 15, **{})]),\n",
       "  Transcript([HSPVertex(1, 10, 2, 11, 10, **{}), HSPVertex(20, 25, 13, 18, 15, **{}), HSPVertex(27, 30, 22, 24, 10, **{}), HSPVertex(35, 40, 30, 36, 15, **{}), HSPVertex(42, 48, 40, 47, 15, **{}), HSPVertex(50, 55, 50, 55, 10, **{})])],\n",
       " 'reverse': []}"
      ]
     },
     "execution_count": 56,
     "metadata": {},
     "output_type": "execute_result"
    }
   ],
   "source": [
    "alignment.get_all_transcripts()"
   ]
  },
  {
   "cell_type": "markdown",
   "metadata": {},
   "source": [
    "The second mode is to get best transcript for each orientation. Transcript is assembled in a BLAT-like way. Each HSP represents a graph vertex. Sequential HSPs are connected with edges which weigts are gap penalties (positive) minus following HSP score. The transcript with the least penalty (i.e. the greatest score) is found with dynamic programming algorithm."
   ]
  },
  {
   "cell_type": "code",
   "execution_count": 57,
   "metadata": {},
   "outputs": [
    {
     "data": {
      "text/plain": [
       "{'direct': Transcript([HSPVertex(1, 10, 2, 11, 10, **{}), HSPVertex(20, 25, 13, 18, 15, **{}), HSPVertex(27, 30, 22, 24, 10, **{}), HSPVertex(35, 40, 30, 36, 15, **{}), HSPVertex(42, 48, 40, 47, 15, **{}), HSPVertex(54, 70, 66, 72, 15, **{})]),\n",
       " 'reverse': Transcript([])}"
      ]
     },
     "execution_count": 57,
     "metadata": {},
     "output_type": "execute_result"
    }
   ],
   "source": [
    "alignment.get_best_transcripts()"
   ]
  },
  {
   "cell_type": "markdown",
   "metadata": {},
   "source": [
    "The method returns a dictionary with one transcript for each orientation."
   ]
  },
  {
   "cell_type": "markdown",
   "metadata": {},
   "source": [
    "### Dictionary interplay"
   ]
  },
  {
   "cell_type": "markdown",
   "metadata": {},
   "source": [
    "Alignment can be put to dictionary. Its keys are: HSPs (`._all_HSPs`), qlen, slen, filtered_HSPs (`.HSPs`), filtered."
   ]
  },
  {
   "cell_type": "code",
   "execution_count": 58,
   "metadata": {},
   "outputs": [
    {
     "data": {
      "text/plain": [
       "{'HSPs': [{'qstart': 1,\n",
       "   'qend': 10,\n",
       "   'sstart': 2,\n",
       "   'send': 11,\n",
       "   'score': 10,\n",
       "   'kwargs': {},\n",
       "   'qstrand': True,\n",
       "   'sstrand': True,\n",
       "   'orientation': 'direct',\n",
       "   'next_vertices': [[HSPVertex(20, 25, 13, 18, 15, **{}), 14]],\n",
       "   'total_score': 1,\n",
       "   'best_prev': HSPVertex(0, 0, 0, 0, 0, **{})},\n",
       "  {'qstart': 8,\n",
       "   'qend': 10,\n",
       "   'sstart': 47,\n",
       "   'send': 55,\n",
       "   'score': 15,\n",
       "   'kwargs': {},\n",
       "   'qstrand': True,\n",
       "   'sstrand': True,\n",
       "   'orientation': 'direct',\n",
       "   'next_vertices': [[HSPVertex(54, 70, 66, 72, 15, **{}), 100]],\n",
       "   'total_score': 100,\n",
       "   'best_prev': HSPVertex(0, 0, 0, 0, 0, **{})},\n",
       "  {'qstart': 8,\n",
       "   'qend': 15,\n",
       "   'sstart': 5,\n",
       "   'send': 12,\n",
       "   'score': 10,\n",
       "   'kwargs': {},\n",
       "   'qstrand': True,\n",
       "   'sstrand': True,\n",
       "   'orientation': 'direct',\n",
       "   'next_vertices': [[HSPVertex(20, 25, 13, 18, 15, **{}), 2]],\n",
       "   'total_score': 21,\n",
       "   'best_prev': HSPVertex(0, 0, 0, 0, 0, **{})},\n",
       "  {'qstart': 20,\n",
       "   'qend': 25,\n",
       "   'sstart': 13,\n",
       "   'send': 18,\n",
       "   'score': 15,\n",
       "   'kwargs': {},\n",
       "   'qstrand': True,\n",
       "   'sstrand': True,\n",
       "   'orientation': 'direct',\n",
       "   'next_vertices': [[HSPVertex(27, 30, 22, 24, 10, **{}), 7]],\n",
       "   'total_score': 15,\n",
       "   'best_prev': HSPVertex(1, 10, 2, 11, 10, **{})},\n",
       "  {'qstart': 27,\n",
       "   'qend': 30,\n",
       "   'sstart': 22,\n",
       "   'send': 24,\n",
       "   'score': 10,\n",
       "   'kwargs': {},\n",
       "   'qstrand': True,\n",
       "   'sstrand': True,\n",
       "   'orientation': 'direct',\n",
       "   'next_vertices': [[HSPVertex(35, 40, 30, 36, 15, **{}), 12],\n",
       "    [HSPVertex(38, 45, 36, 47, 10, **{}), 35]],\n",
       "   'total_score': 22,\n",
       "   'best_prev': HSPVertex(20, 25, 13, 18, 15, **{})},\n",
       "  {'qstart': 35,\n",
       "   'qend': 40,\n",
       "   'sstart': 30,\n",
       "   'send': 36,\n",
       "   'score': 15,\n",
       "   'kwargs': {},\n",
       "   'qstrand': True,\n",
       "   'sstrand': True,\n",
       "   'orientation': 'direct',\n",
       "   'next_vertices': [[HSPVertex(42, 48, 40, 47, 15, **{}), 2]],\n",
       "   'total_score': 34,\n",
       "   'best_prev': HSPVertex(27, 30, 22, 24, 10, **{})},\n",
       "  {'qstart': 38,\n",
       "   'qend': 45,\n",
       "   'sstart': 36,\n",
       "   'send': 47,\n",
       "   'score': 10,\n",
       "   'kwargs': {},\n",
       "   'qstrand': True,\n",
       "   'sstrand': True,\n",
       "   'orientation': 'direct',\n",
       "   'next_vertices': [[HSPVertex(50, 55, 50, 55, 10, **{}), 11],\n",
       "    [HSPVertex(54, 70, 66, 72, 15, **{}), 46]],\n",
       "   'total_score': 57,\n",
       "   'best_prev': HSPVertex(27, 30, 22, 24, 10, **{})},\n",
       "  {'qstart': 42,\n",
       "   'qend': 48,\n",
       "   'sstart': 40,\n",
       "   'send': 47,\n",
       "   'score': 15,\n",
       "   'kwargs': {},\n",
       "   'qstrand': True,\n",
       "   'sstrand': True,\n",
       "   'orientation': 'direct',\n",
       "   'next_vertices': [[HSPVertex(50, 55, 50, 55, 10, **{}), 5],\n",
       "    [HSPVertex(54, 70, 66, 72, 15, **{}), 40]],\n",
       "   'total_score': 36,\n",
       "   'best_prev': HSPVertex(35, 40, 30, 36, 15, **{})},\n",
       "  {'qstart': 50,\n",
       "   'qend': 55,\n",
       "   'sstart': 50,\n",
       "   'send': 55,\n",
       "   'score': 10,\n",
       "   'kwargs': {},\n",
       "   'qstrand': True,\n",
       "   'sstrand': True,\n",
       "   'orientation': 'direct',\n",
       "   'next_vertices': [[HSPVertex(71, 71, 73, 73, 0, **{}), 73]],\n",
       "   'total_score': 41,\n",
       "   'best_prev': HSPVertex(42, 48, 40, 47, 15, **{})},\n",
       "  {'qstart': 54,\n",
       "   'qend': 70,\n",
       "   'sstart': 66,\n",
       "   'send': 72,\n",
       "   'score': 15,\n",
       "   'kwargs': {},\n",
       "   'qstrand': True,\n",
       "   'sstrand': True,\n",
       "   'orientation': 'direct',\n",
       "   'next_vertices': [[HSPVertex(71, 71, 73, 73, 0, **{}), 9]],\n",
       "   'total_score': 76,\n",
       "   'best_prev': HSPVertex(42, 48, 40, 47, 15, **{})}],\n",
       " 'qlen': 71,\n",
       " 'slen': 73,\n",
       " 'filtered_HSPs': [{'qstart': 1,\n",
       "   'qend': 10,\n",
       "   'sstart': 2,\n",
       "   'send': 11,\n",
       "   'score': 10,\n",
       "   'kwargs': {},\n",
       "   'qstrand': True,\n",
       "   'sstrand': True,\n",
       "   'orientation': 'direct',\n",
       "   'next_vertices': [[HSPVertex(20, 25, 13, 18, 15, **{}), 14]],\n",
       "   'total_score': 1,\n",
       "   'best_prev': HSPVertex(0, 0, 0, 0, 0, **{})},\n",
       "  {'qstart': 8,\n",
       "   'qend': 10,\n",
       "   'sstart': 47,\n",
       "   'send': 55,\n",
       "   'score': 15,\n",
       "   'kwargs': {},\n",
       "   'qstrand': True,\n",
       "   'sstrand': True,\n",
       "   'orientation': 'direct',\n",
       "   'next_vertices': [[HSPVertex(54, 70, 66, 72, 15, **{}), 100]],\n",
       "   'total_score': 100,\n",
       "   'best_prev': HSPVertex(0, 0, 0, 0, 0, **{})},\n",
       "  {'qstart': 8,\n",
       "   'qend': 15,\n",
       "   'sstart': 5,\n",
       "   'send': 12,\n",
       "   'score': 10,\n",
       "   'kwargs': {},\n",
       "   'qstrand': True,\n",
       "   'sstrand': True,\n",
       "   'orientation': 'direct',\n",
       "   'next_vertices': [[HSPVertex(20, 25, 13, 18, 15, **{}), 2]],\n",
       "   'total_score': 21,\n",
       "   'best_prev': HSPVertex(0, 0, 0, 0, 0, **{})},\n",
       "  {'qstart': 20,\n",
       "   'qend': 25,\n",
       "   'sstart': 13,\n",
       "   'send': 18,\n",
       "   'score': 15,\n",
       "   'kwargs': {},\n",
       "   'qstrand': True,\n",
       "   'sstrand': True,\n",
       "   'orientation': 'direct',\n",
       "   'next_vertices': [[HSPVertex(27, 30, 22, 24, 10, **{}), 7]],\n",
       "   'total_score': 15,\n",
       "   'best_prev': HSPVertex(1, 10, 2, 11, 10, **{})},\n",
       "  {'qstart': 27,\n",
       "   'qend': 30,\n",
       "   'sstart': 22,\n",
       "   'send': 24,\n",
       "   'score': 10,\n",
       "   'kwargs': {},\n",
       "   'qstrand': True,\n",
       "   'sstrand': True,\n",
       "   'orientation': 'direct',\n",
       "   'next_vertices': [[HSPVertex(35, 40, 30, 36, 15, **{}), 12],\n",
       "    [HSPVertex(38, 45, 36, 47, 10, **{}), 35]],\n",
       "   'total_score': 22,\n",
       "   'best_prev': HSPVertex(20, 25, 13, 18, 15, **{})},\n",
       "  {'qstart': 35,\n",
       "   'qend': 40,\n",
       "   'sstart': 30,\n",
       "   'send': 36,\n",
       "   'score': 15,\n",
       "   'kwargs': {},\n",
       "   'qstrand': True,\n",
       "   'sstrand': True,\n",
       "   'orientation': 'direct',\n",
       "   'next_vertices': [[HSPVertex(42, 48, 40, 47, 15, **{}), 2]],\n",
       "   'total_score': 34,\n",
       "   'best_prev': HSPVertex(27, 30, 22, 24, 10, **{})},\n",
       "  {'qstart': 38,\n",
       "   'qend': 45,\n",
       "   'sstart': 36,\n",
       "   'send': 47,\n",
       "   'score': 10,\n",
       "   'kwargs': {},\n",
       "   'qstrand': True,\n",
       "   'sstrand': True,\n",
       "   'orientation': 'direct',\n",
       "   'next_vertices': [[HSPVertex(50, 55, 50, 55, 10, **{}), 11],\n",
       "    [HSPVertex(54, 70, 66, 72, 15, **{}), 46]],\n",
       "   'total_score': 57,\n",
       "   'best_prev': HSPVertex(27, 30, 22, 24, 10, **{})},\n",
       "  {'qstart': 42,\n",
       "   'qend': 48,\n",
       "   'sstart': 40,\n",
       "   'send': 47,\n",
       "   'score': 15,\n",
       "   'kwargs': {},\n",
       "   'qstrand': True,\n",
       "   'sstrand': True,\n",
       "   'orientation': 'direct',\n",
       "   'next_vertices': [[HSPVertex(50, 55, 50, 55, 10, **{}), 5],\n",
       "    [HSPVertex(54, 70, 66, 72, 15, **{}), 40]],\n",
       "   'total_score': 36,\n",
       "   'best_prev': HSPVertex(35, 40, 30, 36, 15, **{})},\n",
       "  {'qstart': 50,\n",
       "   'qend': 55,\n",
       "   'sstart': 50,\n",
       "   'send': 55,\n",
       "   'score': 10,\n",
       "   'kwargs': {},\n",
       "   'qstrand': True,\n",
       "   'sstrand': True,\n",
       "   'orientation': 'direct',\n",
       "   'next_vertices': [[HSPVertex(71, 71, 73, 73, 0, **{}), 73]],\n",
       "   'total_score': 41,\n",
       "   'best_prev': HSPVertex(42, 48, 40, 47, 15, **{})},\n",
       "  {'qstart': 54,\n",
       "   'qend': 70,\n",
       "   'sstart': 66,\n",
       "   'send': 72,\n",
       "   'score': 15,\n",
       "   'kwargs': {},\n",
       "   'qstrand': True,\n",
       "   'sstrand': True,\n",
       "   'orientation': 'direct',\n",
       "   'next_vertices': [[HSPVertex(71, 71, 73, 73, 0, **{}), 9]],\n",
       "   'total_score': 76,\n",
       "   'best_prev': HSPVertex(42, 48, 40, 47, 15, **{})}],\n",
       " 'filtered': False}"
      ]
     },
     "execution_count": 58,
     "metadata": {},
     "output_type": "execute_result"
    }
   ],
   "source": [
    "alignment.to_dict()"
   ]
  },
  {
   "cell_type": "code",
   "execution_count": 59,
   "metadata": {},
   "outputs": [
    {
     "data": {
      "image/png": "[encoded data removed]",
      "text/plain": [
       "<Figure size 432x288 with 1 Axes>"
      ]
     },
     "metadata": {
      "needs_background": "light"
     },
     "output_type": "display_data"
    }
   ],
   "source": [
    "Alignment.from_dict(alignment.to_dict()).plot_alignment()"
   ]
  },
  {
   "cell_type": "markdown",
   "metadata": {},
   "source": [
    "Filtering state can be saved to dictionary."
   ]
  },
  {
   "cell_type": "code",
   "execution_count": 60,
   "metadata": {},
   "outputs": [],
   "source": [
    "alignment.filter_by_score(10)"
   ]
  },
  {
   "cell_type": "code",
   "execution_count": 61,
   "metadata": {},
   "outputs": [
    {
     "data": {
      "image/png": "[encoded data removed]",
      "text/plain": [
       "<Figure size 432x288 with 1 Axes>"
      ]
     },
     "metadata": {
      "needs_background": "light"
     },
     "output_type": "display_data"
    }
   ],
   "source": [
    "alignment.plot_alignment()"
   ]
  },
  {
   "cell_type": "code",
   "execution_count": 62,
   "metadata": {},
   "outputs": [
    {
     "data": {
      "image/png": "[encoded data removed]",
      "text/plain": [
       "<Figure size 432x288 with 1 Axes>"
      ]
     },
     "metadata": {
      "needs_background": "light"
     },
     "output_type": "display_data"
    }
   ],
   "source": [
    "Alignment.from_dict(alignment.to_dict()).plot_alignment()"
   ]
  },
  {
   "cell_type": "markdown",
   "metadata": {},
   "source": [
    "### Reading from blast output"
   ]
  },
  {
   "cell_type": "markdown",
   "metadata": {},
   "source": [
    "Let's align human and mouse hotair genes with blastn to find conservative regions."
   ]
  },
  {
   "cell_type": "code",
   "execution_count": 63,
   "metadata": {},
   "outputs": [],
   "source": [
    "%%bash\n",
    "blastn -query hotair_human_gene.fasta -subject hotair_mouse_gene.fasta -task blastn -outfmt '7 std score' -word_size 6 -perc_identity 50 > sample_alignment.tsv"
   ]
  },
  {
   "cell_type": "markdown",
   "metadata": {},
   "source": [
    "An output format `7 std score` is required for accurate processing."
   ]
  },
  {
   "cell_type": "code",
   "execution_count": 64,
   "metadata": {},
   "outputs": [
    {
     "name": "stdout",
     "output_type": "stream",
     "text": [
      "# BLASTN 2.7.1+\n",
      "# Query: NC_000012.12:c53974956-53962308 Homo sapiens chromosome 12, GRCh38.p13 Primary Assembly\n",
      "# Database: User specified sequence set (Input: hotair_mouse_gene.fasta)\n",
      "# Fields: query acc.ver, subject acc.ver, % identity, alignment length, mismatches, gap opens, q. start, q. end, s. start, s. end, evalue, bit score, score\n",
      "# 43 hits found\n",
      "NC_000012.12:c53974956-53962308\tNC_000081.6:c102947946-102944062\t74.820\t1247\t185\t42\t10305\t11496\t1587\t2759\t0.0\t760\t842\n",
      "NC_000012.12:c53974956-53962308\tNC_000081.6:c102947946-102944062\t68.369\t1606\t313\t50\t8518\t10084\t19\t1468\t1.25e-160\t556\t616\n",
      "NC_000012.12:c53974956-53962308\tNC_000081.6:c102947946-102944062\t72.381\t105\t28\t1\t11934\t12038\t3112\t3215\t1.04e-09\t55.4\t60\n",
      "NC_000012.12:c53974956-53962308\tNC_000081.6:c102947946-102944062\t66.138\t189\t50\t6\t12408\t12594\t3658\t3834\t7.97e-05\t39.2\t42\n",
      "NC_000012.12:c53974956-53962308\tNC_000081.6:c102947946-102944062\t75.510\t49\t12\t0\t11633\t11681\t2851\t2899\t0.001\t35.6\t38\n",
      "NC_000012.12:c53974956-53962308\tNC_000081.6:c102947946-102944062\t77.778\t36\t8\t0\t10272\t10307\t1578\t1543\t0.041\t30.1\t32\n",
      "NC_000012.12:c53974956-53962308\tNC_000081.6:c102947946-102944062\t84.615\t26\t4\t0\t12204\t12229\t3368\t3393\t0.041\t30.1\t32\n",
      "NC_000012.12:c53974956-53962308\tNC_000081.6:c102947946-102944062\t89.474\t19\t2\t0\t6050\t6068\t1441\t1459\t0.50\t26.5\t28\n",
      "NC_000012.12:c53974956-53962308\tNC_000081.6:c102947946-102944062\t81.481\t27\t5\t0\t10153\t10179\t1530\t1556\t0.50\t26.5\t28\n",
      "NC_000012.12:c53974956-53962308\tNC_000081.6:c102947946-102944062\t89.474\t19\t2\t0\t5566\t5584\t1586\t1568\t0.50\t26.5\t28\n",
      "NC_000012.12:c53974956-53962308\tNC_000081.6:c102947946-102944062\t83.333\t24\t4\t0\t10300\t10323\t2163\t2140\t0.50\t26.5\t28\n",
      "NC_000012.12:c53974956-53962308\tNC_000081.6:c102947946-102944062\t84.000\t25\t1\t1\t10728\t10749\t2297\t2321\t0.50\t26.5\t28\n",
      "NC_000012.12:c53974956-53962308\tNC_000081.6:c102947946-102944062\t77.778\t36\t7\t1\t11670\t11705\t2685\t2651\t0.50\t26.5\t28\n",
      "NC_000012.12:c53974956-53962308\tNC_000081.6:c102947946-102944062\t84.615\t26\t3\t1\t12474\t12498\t3072\t3047\t0.50\t26.5\t28\n",
      "NC_000012.12:c53974956-53962308\tNC_000081.6:c102947946-102944062\t93.750\t16\t1\t0\t11289\t11304\t372\t387\t1.8\t24.7\t26\n",
      "NC_000012.12:c53974956-53962308\tNC_000081.6:c102947946-102944062\t82.609\t23\t4\t0\t4091\t4113\t511\t533\t1.8\t24.7\t26\n",
      "NC_000012.12:c53974956-53962308\tNC_000081.6:c102947946-102944062\t85.714\t21\t3\t0\t5122\t5142\t588\t568\t1.8\t24.7\t26\n",
      "NC_000012.12:c53974956-53962308\tNC_000081.6:c102947946-102944062\t100.000\t13\t0\t0\t7816\t7828\t581\t593\t1.8\t24.7\t26\n",
      "NC_000012.12:c53974956-53962308\tNC_000081.6:c102947946-102944062\t93.750\t16\t1\t0\t4274\t4289\t620\t605\t1.8\t24.7\t26\n",
      "NC_000012.12:c53974956-53962308\tNC_000081.6:c102947946-102944062\t88.889\t18\t2\t0\t10319\t10336\t1616\t1599\t1.8\t24.7\t26\n",
      "NC_000012.12:c53974956-53962308\tNC_000081.6:c102947946-102944062\t75.758\t33\t8\t0\t5310\t5342\t1782\t1814\t1.8\t24.7\t26\n",
      "NC_000012.12:c53974956-53962308\tNC_000081.6:c102947946-102944062\t81.481\t27\t2\t1\t5387\t5410\t2080\t2054\t1.8\t24.7\t26\n",
      "NC_000012.12:c53974956-53962308\tNC_000081.6:c102947946-102944062\t88.889\t18\t2\t0\t9385\t9402\t2309\t2292\t1.8\t24.7\t26\n",
      "NC_000012.12:c53974956-53962308\tNC_000081.6:c102947946-102944062\t88.889\t18\t2\t0\t12015\t12032\t3209\t3192\t1.8\t24.7\t26\n",
      "NC_000012.12:c53974956-53962308\tNC_000081.6:c102947946-102944062\t100.000\t12\t0\t0\t287\t298\t315\t304\t6.1\t22.9\t24\n",
      "NC_000012.12:c53974956-53962308\tNC_000081.6:c102947946-102944062\t81.818\t22\t4\t0\t3773\t3794\t355\t376\t6.1\t22.9\t24\n",
      "NC_000012.12:c53974956-53962308\tNC_000081.6:c102947946-102944062\t88.235\t17\t2\t0\t805\t821\t577\t593\t6.1\t22.9\t24\n",
      "NC_000012.12:c53974956-53962308\tNC_000081.6:c102947946-102944062\t100.000\t12\t0\t0\t10297\t10308\t690\t701\t6.1\t22.9\t24\n",
      "NC_000012.12:c53974956-53962308\tNC_000081.6:c102947946-102944062\t88.235\t17\t2\t0\t7054\t7070\t712\t728\t6.1\t22.9\t24\n",
      "NC_000012.12:c53974956-53962308\tNC_000081.6:c102947946-102944062\t85.000\t20\t3\t0\t3025\t3044\t762\t781\t6.1\t22.9\t24\n",
      "NC_000012.12:c53974956-53962308\tNC_000081.6:c102947946-102944062\t100.000\t12\t0\t0\t2257\t2268\t1169\t1180\t6.1\t22.9\t24\n",
      "NC_000012.12:c53974956-53962308\tNC_000081.6:c102947946-102944062\t100.000\t12\t0\t0\t9955\t9966\t1348\t1337\t6.1\t22.9\t24\n",
      "NC_000012.12:c53974956-53962308\tNC_000081.6:c102947946-102944062\t100.000\t12\t0\t0\t10493\t10504\t1788\t1777\t6.1\t22.9\t24\n",
      "NC_000012.12:c53974956-53962308\tNC_000081.6:c102947946-102944062\t81.818\t22\t4\t0\t759\t780\t1833\t1812\t6.1\t22.9\t24\n",
      "NC_000012.12:c53974956-53962308\tNC_000081.6:c102947946-102944062\t93.333\t15\t1\t0\t10863\t10877\t2218\t2232\t6.1\t22.9\t24\n",
      "NC_000012.12:c53974956-53962308\tNC_000081.6:c102947946-102944062\t93.333\t15\t1\t0\t12227\t12241\t2254\t2268\t6.1\t22.9\t24\n",
      "NC_000012.12:c53974956-53962308\tNC_000081.6:c102947946-102944062\t88.235\t17\t2\t0\t1729\t1745\t2399\t2415\t6.1\t22.9\t24\n",
      "NC_000012.12:c53974956-53962308\tNC_000081.6:c102947946-102944062\t100.000\t12\t0\t0\t2979\t2990\t2472\t2461\t6.1\t22.9\t24\n",
      "NC_000012.12:c53974956-53962308\tNC_000081.6:c102947946-102944062\t80.000\t25\t5\t0\t5173\t5197\t2654\t2678\t6.1\t22.9\t24\n",
      "NC_000012.12:c53974956-53962308\tNC_000081.6:c102947946-102944062\t100.000\t12\t0\t0\t9506\t9517\t2925\t2936\t6.1\t22.9\t24\n",
      "NC_000012.12:c53974956-53962308\tNC_000081.6:c102947946-102944062\t88.235\t17\t2\t0\t405\t421\t3004\t2988\t6.1\t22.9\t24\n",
      "NC_000012.12:c53974956-53962308\tNC_000081.6:c102947946-102944062\t71.429\t42\t12\t0\t11798\t11839\t3002\t3043\t6.1\t22.9\t24\n",
      "NC_000012.12:c53974956-53962308\tNC_000081.6:c102947946-102944062\t88.235\t17\t2\t0\t11642\t11658\t3833\t3849\t6.1\t22.9\t24\n",
      "# BLAST processed 1 queries\n"
     ]
    }
   ],
   "source": [
    "%%bash\n",
    "cat sample_alignment.tsv"
   ]
  },
  {
   "cell_type": "code",
   "execution_count": 65,
   "metadata": {},
   "outputs": [],
   "source": [
    "with open(\"sample_alignment.tsv\", 'r') as infile:\n",
    "    blast_alignment = Alignment.from_file(infile)"
   ]
  },
  {
   "cell_type": "code",
   "execution_count": 66,
   "metadata": {},
   "outputs": [
    {
     "data": {
      "image/png": "[encoded data removed]",
      "text/plain": [
       "<Figure size 432x288 with 1 Axes>"
      ]
     },
     "metadata": {
      "needs_background": "light"
     },
     "output_type": "display_data"
    }
   ],
   "source": [
    "blast_alignment.plot_alignment()"
   ]
  },
  {
   "cell_type": "markdown",
   "metadata": {},
   "source": [
    "We can filter out noisy HSPs of random alignment and reconstruct mouse transcript based on conservative regions."
   ]
  },
  {
   "cell_type": "code",
   "execution_count": 67,
   "metadata": {},
   "outputs": [
    {
     "name": "stdout",
     "output_type": "stream",
     "text": [
      "842\n",
      "616\n",
      "60\n",
      "42\n",
      "38\n",
      "32\n",
      "32\n",
      "28\n",
      "28\n",
      "28\n",
      "28\n",
      "28\n",
      "28\n",
      "28\n",
      "26\n",
      "26\n",
      "26\n",
      "26\n",
      "26\n",
      "26\n",
      "26\n",
      "26\n",
      "26\n",
      "26\n",
      "24\n",
      "24\n",
      "24\n",
      "24\n",
      "24\n",
      "24\n",
      "24\n",
      "24\n",
      "24\n",
      "24\n",
      "24\n",
      "24\n",
      "24\n",
      "24\n",
      "24\n",
      "24\n",
      "24\n",
      "24\n",
      "24\n"
     ]
    }
   ],
   "source": [
    "for hsp in blast_alignment._all_HSPs:\n",
    "    print(hsp.score)"
   ]
  },
  {
   "cell_type": "code",
   "execution_count": 68,
   "metadata": {},
   "outputs": [],
   "source": [
    "blast_alignment.filter_by_score(30)"
   ]
  },
  {
   "cell_type": "code",
   "execution_count": 69,
   "metadata": {},
   "outputs": [
    {
     "data": {
      "image/png": "[encoded data removed]",
      "text/plain": [
       "<Figure size 432x288 with 1 Axes>"
      ]
     },
     "metadata": {
      "needs_background": "light"
     },
     "output_type": "display_data"
    }
   ],
   "source": [
    "blast_alignment.plot_alignment()"
   ]
  },
  {
   "cell_type": "code",
   "execution_count": 70,
   "metadata": {},
   "outputs": [],
   "source": [
    "best_transcript = blast_alignment.get_best_transcripts()['direct']"
   ]
  },
  {
   "cell_type": "markdown",
   "metadata": {},
   "source": [
    "## Transcript"
   ]
  },
  {
   "cell_type": "markdown",
   "metadata": {},
   "source": [
    "`Transcript` instance represents a transcript. It contains ordered list of HSPs, transcript score and a link to a relevant alignment."
   ]
  },
  {
   "cell_type": "code",
   "execution_count": 71,
   "metadata": {},
   "outputs": [
    {
     "data": {
      "text/plain": [
       "[HSPVertex(8518, 10084, 19, 1468, 616, **{'query acc.ver': 'NC_000012.12:c53974956-53962308', 'subject acc.ver': 'NC_000081.6:c102947946-102944062', '% identity': 68.369, 'alignment length': 1606, 'mismatches': 313, 'gap opens': 50, 'evalue': 1.25e-160, 'bit score': 556}),\n",
       " HSPVertex(10305, 11496, 1587, 2759, 842, **{'query acc.ver': 'NC_000012.12:c53974956-53962308', 'subject acc.ver': 'NC_000081.6:c102947946-102944062', '% identity': 74.82, 'alignment length': 1247, 'mismatches': 185, 'gap opens': 42, 'evalue': 0, 'bit score': 760}),\n",
       " HSPVertex(11633, 11681, 2851, 2899, 38, **{'query acc.ver': 'NC_000012.12:c53974956-53962308', 'subject acc.ver': 'NC_000081.6:c102947946-102944062', '% identity': 75.51, 'alignment length': 49, 'mismatches': 12, 'gap opens': 0, 'evalue': 0.001, 'bit score': 35.6}),\n",
       " HSPVertex(11934, 12038, 3112, 3215, 60, **{'query acc.ver': 'NC_000012.12:c53974956-53962308', 'subject acc.ver': 'NC_000081.6:c102947946-102944062', '% identity': 72.381, 'alignment length': 105, 'mismatches': 28, 'gap opens': 1, 'evalue': 1.04e-09, 'bit score': 55.4}),\n",
       " HSPVertex(12204, 12229, 3368, 3393, 32, **{'query acc.ver': 'NC_000012.12:c53974956-53962308', 'subject acc.ver': 'NC_000081.6:c102947946-102944062', '% identity': 84.615, 'alignment length': 26, 'mismatches': 4, 'gap opens': 0, 'evalue': 0.041, 'bit score': 30.1}),\n",
       " HSPVertex(12408, 12594, 3658, 3834, 42, **{'query acc.ver': 'NC_000012.12:c53974956-53962308', 'subject acc.ver': 'NC_000081.6:c102947946-102944062', '% identity': 66.138, 'alignment length': 189, 'mismatches': 50, 'gap opens': 6, 'evalue': 7.97e-05, 'bit score': 39.2})]"
      ]
     },
     "execution_count": 71,
     "metadata": {},
     "output_type": "execute_result"
    }
   ],
   "source": [
    "best_transcript.HSPs"
   ]
  },
  {
   "cell_type": "code",
   "execution_count": 72,
   "metadata": {},
   "outputs": [
    {
     "data": {
      "text/plain": [
       "-1991"
      ]
     },
     "execution_count": 72,
     "metadata": {},
     "output_type": "execute_result"
    }
   ],
   "source": [
    "best_transcript.score"
   ]
  },
  {
   "cell_type": "code",
   "execution_count": 73,
   "metadata": {},
   "outputs": [
    {
     "data": {
      "image/png": "[encoded data removed]",
      "text/plain": [
       "<Figure size 432x288 with 1 Axes>"
      ]
     },
     "metadata": {
      "needs_background": "light"
     },
     "output_type": "display_data"
    }
   ],
   "source": [
    "best_transcript.alignment.plot_alignment()"
   ]
  },
  {
   "cell_type": "markdown",
   "metadata": {},
   "source": [
    "Transcript can be plotted."
   ]
  },
  {
   "cell_type": "code",
   "execution_count": 74,
   "metadata": {
    "scrolled": true
   },
   "outputs": [
    {
     "data": {
      "image/png": "[encoded data removed]",
      "text/plain": [
       "<Figure size 432x288 with 1 Axes>"
      ]
     },
     "metadata": {
      "needs_background": "light"
     },
     "output_type": "display_data"
    }
   ],
   "source": [
    "best_transcript.plot_transcript()"
   ]
  },
  {
   "cell_type": "markdown",
   "metadata": {},
   "source": [
    "Red HSPs are HSPs belonging to transcript, grey HSPs are not, blue dashed lines indicate gaps."
   ]
  },
  {
   "cell_type": "code",
   "execution_count": 75,
   "metadata": {},
   "outputs": [
    {
     "name": "stdout",
     "output_type": "stream",
     "text": [
      "qstart\tqend\tsstart\tsend\n",
      "8518\t10084\t19\t1468\n",
      "10305\t11496\t1587\t2759\n",
      "11633\t11681\t2851\t2899\n",
      "11934\t12038\t3112\t3215\n",
      "12204\t12229\t3368\t3393\n",
      "12408\t12594\t3658\t3834\n"
     ]
    }
   ],
   "source": [
    "print(best_transcript)"
   ]
  },
  {
   "cell_type": "markdown",
   "metadata": {},
   "source": [
    "### Dictionary interplay"
   ]
  },
  {
   "cell_type": "markdown",
   "metadata": {},
   "source": [
    "The `Transcript` instance can be transformed to dictionary containing list of HSPs, relative alignment and transcript score. HSPs and the alignment are also transformed to dictionaries."
   ]
  },
  {
   "cell_type": "code",
   "execution_count": 76,
   "metadata": {},
   "outputs": [
    {
     "data": {
      "text/plain": [
       "dict_keys(['HSPs', 'alignment', 'score'])"
      ]
     },
     "execution_count": 76,
     "metadata": {},
     "output_type": "execute_result"
    }
   ],
   "source": [
    "best_transcript.to_dict().keys()"
   ]
  },
  {
   "cell_type": "markdown",
   "metadata": {},
   "source": [
    "Transcript can be fully recovered from dictionary."
   ]
  },
  {
   "cell_type": "code",
   "execution_count": 77,
   "metadata": {},
   "outputs": [
    {
     "data": {
      "image/png": "[encoded data removed]",
      "text/plain": [
       "<Figure size 432x288 with 1 Axes>"
      ]
     },
     "metadata": {
      "needs_background": "light"
     },
     "output_type": "display_data"
    }
   ],
   "source": [
    "Transcript.from_dict(best_transcript.to_dict()).plot_transcript()"
   ]
  }
 ],
 "metadata": {
  "kernelspec": {
   "display_name": "Python 3",
   "language": "python",
   "name": "python3"
  },
  "language_info": {
   "codemirror_mode": {
    "name": "ipython",
    "version": 3
   },
   "file_extension": ".py",
   "mimetype": "text/x-python",
   "name": "python",
   "nbconvert_exporter": "python",
   "pygments_lexer": "ipython3",
   "version": "3.7.3"
  }
 },
 "nbformat": 4,
 "nbformat_minor": 2
}
