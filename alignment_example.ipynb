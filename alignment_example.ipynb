{
 "cells": [
  {
   "cell_type": "code",
   "execution_count": 1,
   "metadata": {},
   "outputs": [],
   "source": [
    "from alignment import HSP, HSPVertex, Alignment, Transcript"
   ]
  },
  {
   "cell_type": "markdown",
   "metadata": {},
   "source": [
    "1. Examples of HSP usage: init, other methods\n",
    "2. Explanation of HSPVertex\n",
    "3. Alignment: parsing, making, methods\n",
    "4. Transcript: connection to an alignment, methods\n",
    "5. Real-world case: blast (sequence example fetching, output formatting, plotting)"
   ]
  },
  {
   "cell_type": "markdown",
   "metadata": {},
   "source": [
    "## HSP"
   ]
  },
  {
   "cell_type": "markdown",
   "metadata": {},
   "source": [
    "HSP is a high-scoring pair in BLAST notation. It represents an ungapped alignment block of two sequences (i.e. no gaps in both sequences at the same time). Simple `HSP` instance here can be made from coordinates of that block in both sequences and an alignment raw score."
   ]
  },
  {
   "cell_type": "code",
   "execution_count": 2,
   "metadata": {},
   "outputs": [
    {
     "data": {
      "text/plain": [
       "HSP(10, 20, 15, 27, 20, **{})"
      ]
     },
     "execution_count": 2,
     "metadata": {},
     "output_type": "execute_result"
    }
   ],
   "source": [
    "HSP(qstart=10, qend=20, sstart=15, send=27, score=20)"
   ]
  },
  {
   "cell_type": "markdown",
   "metadata": {},
   "source": [
    "Additional information can be provided via `kwargs`."
   ]
  },
  {
   "cell_type": "code",
   "execution_count": 3,
   "metadata": {},
   "outputs": [
    {
     "data": {
      "text/plain": [
       "HSP(10, 20, 15, 27, 20, **{'gaps': 5, 'gapopens': 2, 'mismatch': 7})"
      ]
     },
     "execution_count": 3,
     "metadata": {},
     "output_type": "execute_result"
    }
   ],
   "source": [
    "HSP(qstart=10, qend=20, sstart=15, send=27, score=20, gaps=5, gapopens=2, mismatch=7)"
   ]
  },
  {
   "cell_type": "markdown",
   "metadata": {},
   "source": [
    "### HSP attributes"
   ]
  },
  {
   "cell_type": "code",
   "execution_count": 4,
   "metadata": {},
   "outputs": [],
   "source": [
    "hsp = HSP(qstart=10, qend=20, sstart=15, send=27, score=20, gaps=5, gapopens=2, mismatch=7)"
   ]
  },
  {
   "cell_type": "markdown",
   "metadata": {},
   "source": [
    "Arbitrary initiative attributes can be accessed."
   ]
  },
  {
   "cell_type": "code",
   "execution_count": 5,
   "metadata": {},
   "outputs": [
    {
     "data": {
      "text/plain": [
       "(10, 20, 15, 27, 20)"
      ]
     },
     "execution_count": 5,
     "metadata": {},
     "output_type": "execute_result"
    }
   ],
   "source": [
    "hsp.qstart, hsp.qend, hsp.sstart, hsp.send, hsp.score"
   ]
  },
  {
   "cell_type": "markdown",
   "metadata": {},
   "source": [
    "`kwargs` are stored in `kwargs` dict."
   ]
  },
  {
   "cell_type": "code",
   "execution_count": 6,
   "metadata": {},
   "outputs": [
    {
     "data": {
      "text/plain": [
       "{'gaps': 5, 'gapopens': 2, 'mismatch': 7}"
      ]
     },
     "execution_count": 6,
     "metadata": {},
     "output_type": "execute_result"
    }
   ],
   "source": [
    "hsp.kwargs"
   ]
  },
  {
   "cell_type": "markdown",
   "metadata": {},
   "source": [
    "Both sequences have strandness in HSP: + or -. Query sequence is always +-stranded. If subject end is greater, than subject start, then subject is +-stranded, --stranded otherwise. Sequence orientations are notated as `qstrand` and `sstrand` and are `True`, if +, `False` otherwise."
   ]
  },
  {
   "cell_type": "code",
   "execution_count": 7,
   "metadata": {},
   "outputs": [
    {
     "data": {
      "text/plain": [
       "(True, True)"
      ]
     },
     "execution_count": 7,
     "metadata": {},
     "output_type": "execute_result"
    }
   ],
   "source": [
    "hsp.qstrand, hsp.sstrand"
   ]
  },
  {
   "cell_type": "markdown",
   "metadata": {},
   "source": [
    "HSP has orientation: if both query and subject strands are +, it is direct, reverse otherwise."
   ]
  },
  {
   "cell_type": "code",
   "execution_count": 8,
   "metadata": {},
   "outputs": [
    {
     "data": {
      "text/plain": [
       "'direct'"
      ]
     },
     "execution_count": 8,
     "metadata": {},
     "output_type": "execute_result"
    }
   ],
   "source": [
    "hsp.orientation"
   ]
  },
  {
   "cell_type": "markdown",
   "metadata": {},
   "source": [
    "### HSP representation"
   ]
  },
  {
   "cell_type": "markdown",
   "metadata": {},
   "source": [
    "HSP representation returns a string that can be used to restore original object."
   ]
  },
  {
   "cell_type": "code",
   "execution_count": 9,
   "metadata": {},
   "outputs": [
    {
     "data": {
      "text/plain": [
       "\"HSP(10, 20, 15, 27, 20, **{'gaps': 5, 'gapopens': 2, 'mismatch': 7})\""
      ]
     },
     "execution_count": 9,
     "metadata": {},
     "output_type": "execute_result"
    }
   ],
   "source": [
    "repr(hsp)"
   ]
  },
  {
   "cell_type": "markdown",
   "metadata": {},
   "source": [
    "String representation of HSP provides verbal representation of HSP with query and subject coordinates, score and orientation."
   ]
  },
  {
   "cell_type": "code",
   "execution_count": 10,
   "metadata": {},
   "outputs": [
    {
     "data": {
      "text/plain": [
       "'q 10:20 s 15:27 score 20 direct'"
      ]
     },
     "execution_count": 10,
     "metadata": {},
     "output_type": "execute_result"
    }
   ],
   "source": [
    "str(hsp)"
   ]
  },
  {
   "cell_type": "markdown",
   "metadata": {},
   "source": [
    "### HSP methods"
   ]
  },
  {
   "cell_type": "markdown",
   "metadata": {},
   "source": [
    "#### Precedence"
   ]
  },
  {
   "cell_type": "markdown",
   "metadata": {},
   "source": [
    "Precedence is occured when two HSPs are oriented identically and do not intersect on both query and subject sequences. Take `hsp1` and `hsp2` for example. `hsp1` precedes `hsp2` in query sequence, if end of `hsp1` is lesser than start of `hsp2`. In subject sequence in case of direct HSPs orientations the rule the same. If orientations are reverse, the rule is opposite. If orientations are inconsistent, precedence cannot be defined. Only if `hsp1` precedes `hsp2` on both query and subject sequences, `hsp1` precedes `hsp2`."
   ]
  },
  {
   "cell_type": "code",
   "execution_count": 11,
   "metadata": {},
   "outputs": [
    {
     "data": {
      "text/plain": [
       "True"
      ]
     },
     "execution_count": 11,
     "metadata": {},
     "output_type": "execute_result"
    }
   ],
   "source": [
    "hsp1 = HSP(qstart=10, qend=20, sstart=15, send=27, score=20)\n",
    "hsp2 = HSP(qstart=22, qend=25, sstart=30, send=36, score=10)\n",
    "hsp1.precede(hsp2)"
   ]
  },
  {
   "cell_type": "markdown",
   "metadata": {},
   "source": [
    "The method does not distinguish between succeeding and intersecting."
   ]
  },
  {
   "cell_type": "code",
   "execution_count": 12,
   "metadata": {},
   "outputs": [],
   "source": [
    "hsp3 = HSP(qstart=17, qend=25, sstart=30, send=36, score=11)"
   ]
  },
  {
   "cell_type": "code",
   "execution_count": 13,
   "metadata": {},
   "outputs": [
    {
     "data": {
      "text/plain": [
       "(False, False)"
      ]
     },
     "execution_count": 13,
     "metadata": {},
     "output_type": "execute_result"
    }
   ],
   "source": [
    "hsp1.precede(hsp3), hsp2.precede(hsp1)"
   ]
  },
  {
   "cell_type": "markdown",
   "metadata": {},
   "source": [
    "The exception is thrown in case of inconsistent orientations."
   ]
  },
  {
   "cell_type": "code",
   "execution_count": 14,
   "metadata": {},
   "outputs": [
    {
     "ename": "ValueError",
     "evalue": "HSPs have inconsistent orientations: direct for q 10:20 s 15:27 score 20 direct and reverse for q 22:25 s 36:30 score 10 reverse.",
     "output_type": "error",
     "traceback": [
      "\u001b[0;31m---------------------------------------------------------------------------\u001b[0m",
      "\u001b[0;31mValueError\u001b[0m                                Traceback (most recent call last)",
      "\u001b[0;32m<ipython-input-14-08c7887a9cd0>\u001b[0m in \u001b[0;36m<module>\u001b[0;34m\u001b[0m\n\u001b[1;32m      1\u001b[0m \u001b[0mhsp4\u001b[0m \u001b[0;34m=\u001b[0m \u001b[0mHSP\u001b[0m\u001b[0;34m(\u001b[0m\u001b[0mqstart\u001b[0m\u001b[0;34m=\u001b[0m\u001b[0;36m22\u001b[0m\u001b[0;34m,\u001b[0m \u001b[0mqend\u001b[0m\u001b[0;34m=\u001b[0m\u001b[0;36m25\u001b[0m\u001b[0;34m,\u001b[0m \u001b[0msstart\u001b[0m\u001b[0;34m=\u001b[0m\u001b[0;36m36\u001b[0m\u001b[0;34m,\u001b[0m \u001b[0msend\u001b[0m\u001b[0;34m=\u001b[0m\u001b[0;36m30\u001b[0m\u001b[0;34m,\u001b[0m \u001b[0mscore\u001b[0m\u001b[0;34m=\u001b[0m\u001b[0;36m10\u001b[0m\u001b[0;34m)\u001b[0m\u001b[0;34m\u001b[0m\u001b[0;34m\u001b[0m\u001b[0m\n\u001b[0;32m----> 2\u001b[0;31m \u001b[0mhsp1\u001b[0m\u001b[0;34m.\u001b[0m\u001b[0mprecede\u001b[0m\u001b[0;34m(\u001b[0m\u001b[0mhsp4\u001b[0m\u001b[0;34m)\u001b[0m\u001b[0;34m\u001b[0m\u001b[0;34m\u001b[0m\u001b[0m\n\u001b[0m",
      "\u001b[0;32m~/github_miscellaneous/alignment.py\u001b[0m in \u001b[0;36mprecede\u001b[0;34m(self, other)\u001b[0m\n\u001b[1;32m     60\u001b[0m             \u001b[0;34m(\u001b[0m\u001b[0mself\u001b[0m\u001b[0;34m.\u001b[0m\u001b[0morientation\u001b[0m \u001b[0;32mis\u001b[0m \u001b[0;32mnot\u001b[0m \u001b[0;32mNone\u001b[0m\u001b[0;34m)\u001b[0m \u001b[0;32mand\u001b[0m\u001b[0;34m\u001b[0m\u001b[0;34m\u001b[0m\u001b[0m\n\u001b[1;32m     61\u001b[0m             (other.orientation is not None)):\n\u001b[0;32m---> 62\u001b[0;31m             raise ValueError(f\"HSPs have inconsistent orientations: \"\n\u001b[0m\u001b[1;32m     63\u001b[0m                              \u001b[0;34mf\"{self.orientation} for {self} and \"\u001b[0m\u001b[0;34m\u001b[0m\u001b[0;34m\u001b[0m\u001b[0m\n\u001b[1;32m     64\u001b[0m                              f\"{other.orientation} for {other}.\")\n",
      "\u001b[0;31mValueError\u001b[0m: HSPs have inconsistent orientations: direct for q 10:20 s 15:27 score 20 direct and reverse for q 22:25 s 36:30 score 10 reverse."
     ]
    }
   ],
   "source": [
    "hsp4 = HSP(qstart=22, qend=25, sstart=36, send=30, score=10)\n",
    "hsp1.precede(hsp4)"
   ]
  },
  {
   "cell_type": "markdown",
   "metadata": {},
   "source": [
    "#### Copy"
   ]
  },
  {
   "cell_type": "markdown",
   "metadata": {},
   "source": [
    "HSP can be copied to another instance."
   ]
  },
  {
   "cell_type": "code",
   "execution_count": 15,
   "metadata": {},
   "outputs": [
    {
     "data": {
      "text/plain": [
       "HSP(10, 20, 15, 27, 20, **{'gaps': 5, 'gapopens': 2, 'mismatch': 7})"
      ]
     },
     "execution_count": 15,
     "metadata": {},
     "output_type": "execute_result"
    }
   ],
   "source": [
    "hsp.copy()"
   ]
  },
  {
   "cell_type": "markdown",
   "metadata": {},
   "source": [
    "#### Interplay with dictionary representation"
   ]
  },
  {
   "cell_type": "markdown",
   "metadata": {},
   "source": [
    "HSP can be converted to dictionary representation. It is useful in case of saving to json. Full state of HSP is dumped so user can operate with HSPs both as python objects or as regular dictionaries."
   ]
  },
  {
   "cell_type": "code",
   "execution_count": 16,
   "metadata": {},
   "outputs": [
    {
     "data": {
      "text/plain": [
       "{'qstart': 10,\n",
       " 'qend': 20,\n",
       " 'sstart': 15,\n",
       " 'send': 27,\n",
       " 'score': 20,\n",
       " 'kwargs': {'gaps': 5, 'gapopens': 2, 'mismatch': 7},\n",
       " 'qstrand': True,\n",
       " 'sstrand': True,\n",
       " 'orientation': 'direct'}"
      ]
     },
     "execution_count": 16,
     "metadata": {},
     "output_type": "execute_result"
    }
   ],
   "source": [
    "hsp.to_dict()"
   ]
  },
  {
   "cell_type": "markdown",
   "metadata": {},
   "source": [
    "HSP can be restored from dictionary representation."
   ]
  },
  {
   "cell_type": "code",
   "execution_count": 17,
   "metadata": {},
   "outputs": [
    {
     "data": {
      "text/plain": [
       "HSP(10, 20, 15, 27, 20, **{'gaps': 5, 'gapopens': 2, 'mismatch': 7})"
      ]
     },
     "execution_count": 17,
     "metadata": {},
     "output_type": "execute_result"
    }
   ],
   "source": [
    "HSP.from_dict(hsp.to_dict())"
   ]
  },
  {
   "cell_type": "markdown",
   "metadata": {},
   "source": [
    "#### Distance"
   ]
  },
  {
   "cell_type": "code",
   "execution_count": null,
   "metadata": {},
   "outputs": [],
   "source": []
  }
 ],
 "metadata": {
  "kernelspec": {
   "display_name": "Python 3",
   "language": "python",
   "name": "python3"
  },
  "language_info": {
   "codemirror_mode": {
    "name": "ipython",
    "version": 3
   },
   "file_extension": ".py",
   "mimetype": "text/x-python",
   "name": "python",
   "nbconvert_exporter": "python",
   "pygments_lexer": "ipython3",
   "version": "3.7.1"
  }
 },
 "nbformat": 4,
 "nbformat_minor": 2
}
