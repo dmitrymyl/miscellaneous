{
 "cells": [
  {
   "cell_type": "code",
   "execution_count": 1,
   "metadata": {},
   "outputs": [],
   "source": [
    "class GenomicException(Exception):\n",
    "    pass\n",
    "\n",
    "\n",
    "class InconsistentChromosomesError(GenomicException):\n",
    "    \n",
    "    def __init__(self, one_chrom, other_chrom):\n",
    "        self.one_chrom = one_chrom\n",
    "        self.other_chrom = other_chrom\n",
    "        super().__init__(f\"Inconsistent chromosomes of \"\n",
    "                         f\"comparing genomic ranges: \"\n",
    "                         f\"{self.one_chrom} and {self.other_chrom}.\")\n",
    "\n",
    "\n",
    "class InconsistentGenomesError(GenomicException):\n",
    "\n",
    "    def __init__(self, one_genome, other_genome):\n",
    "        self.one_genome = one_genome\n",
    "        self.other_genome = other_genome\n",
    "        super().__init__(f\"Inconsistent genomes of \"\n",
    "                         f\"comparing genomic ranges: \"\n",
    "                         f\"{self.one_genome} and {self.other_genome}.\")\n",
    "\n",
    "class EmptyGenomicRangesListError(GenomicException):\n",
    "    \n",
    "    def __init__(self, range_list_instance):\n",
    "        self.range_list = range_list_instance\n",
    "        super().__init__(f\"Empty GenomicRangesList instance: {self.range_list}\")\n",
    "        "
   ]
  },
  {
   "cell_type": "code",
   "execution_count": 2,
   "metadata": {},
   "outputs": [],
   "source": [
    "class GenomicRange:\n",
    "    def __init__(self, chrom, start, end, strand,\n",
    "                 genome=None, sequence_file_loc=None,\n",
    "                 synteny=None, neighbours=None, **kwargs):\n",
    "        self.chrom = chrom\n",
    "        self.start = start\n",
    "        self.end = end\n",
    "        self.strand = strand\n",
    "        self.genome = genome\n",
    "        self.sequence_file_loc = sequence_file_loc\n",
    "        self.synteny = GenomicRangesList([], self.genome) if synteny is None else synteny\n",
    "        self.neighbours = GenomicRangesList([], self.genome) if neighbours is None else neighbours\n",
    "    \n",
    "    def __repr__(self):\n",
    "        return f\"GenomicRange({self.chrom}, {self.start}, {self.end}, {self.strand})\"\n",
    "    \n",
    "    def __str__(self):\n",
    "        return f\"{self.chrom}\\t{self.start}\\t{self.end}\\t{self.strand}\"\n",
    "    \n",
    "    def distance(self, other):\n",
    "        if self.chrom != other.chrom:\n",
    "            raise InconsistentChromosomosesError(self.chrom, other.chrom)\n",
    "        if self.genome != other.genome:\n",
    "            raise InconsistentGenomesError(self.genome, other.genome)\n",
    "        if self.end < other.start:\n",
    "            return other.start - self.end\n",
    "        if other.end < self.start:\n",
    "            return other.end - self.start\n",
    "        return 0\n",
    "    \n",
    "    def merge(self, other):\n",
    "        if self.chrom != other.chrom:\n",
    "            raise InconsistentChromosomosesError(self.chrom, other.chrom)\n",
    "        if self.genome != other.genome:\n",
    "            raise InconsistentGenomesError(self.genome, other.genome)\n",
    "        start = min(self.start, other.start)\n",
    "        end = max(self.end, other.end)\n",
    "        return GenomicRange(chrom=self.chrom,\n",
    "                            start=start,\n",
    "                            end=end,\n",
    "                            strand=\".\",\n",
    "                            genome=self.genome)\n",
    "\n",
    "    def align(self):\n",
    "        pass\n",
    "\n",
    "    def extract_fasta(self, outfilename):\n",
    "        pass"
   ]
  },
  {
   "cell_type": "code",
   "execution_count": null,
   "metadata": {},
   "outputs": [],
   "source": [
    "class FastaSeqFile:\n",
    "    def __init__(self, location):\n",
    "        self.location = location\n",
    "        self._file_obj = open(self.location, 'r')\n",
    "        self.chromsizes = None\n",
    "        self.chrom = None\n",
    "        self.point = None\n",
    "        self.chrom_coords = None\n",
    "    \n",
    "    def get_chromsizes(self):\n",
    "        pass\n",
    "    \n",
    "    def get_fasta_by_coord(self, chrom, start, end, strand):\n",
    "        pass"
   ]
  },
  {
   "cell_type": "code",
   "execution_count": 3,
   "metadata": {},
   "outputs": [],
   "source": [
    "from sortedcontainers import SortedKeyList"
   ]
  },
  {
   "cell_type": "code",
   "execution_count": 4,
   "metadata": {},
   "outputs": [],
   "source": [
    "class GenomicRangesList(SortedKeyList):\n",
    "\n",
    "    def __init__(self, collection=[], genome=None):\n",
    "        super().__init__(iterable=collection, key=lambda x: (x.chrom, x.start, x.end))\n",
    "        self.genome = genome\n",
    "    \n",
    "    def merge(self, distance=0):\n",
    "        if len(self) == 0:\n",
    "            raise EmptyGenomicRangesListError(self)\n",
    "        new_range_list = GenomicRangesList([], self.genome)\n",
    "        new_range_list.add(self[0])\n",
    "        new_index = 0\n",
    "        for grange in self[1:]:\n",
    "            try:\n",
    "                if abs(new_range_list[new_index].distance(grange)) <= distance:\n",
    "                    new_range_list[new_index] = new_range_list[new_index].merge(grange)\n",
    "                else:\n",
    "                    new_range_list.add(grange)\n",
    "                    new_index += 1\n",
    "            except InconsistentChromosomesError:\n",
    "                new_range_list.add(grange)\n",
    "                new_index += 1\n",
    "        return new_range_list\n",
    "    \n",
    "    def get_neighbours(self, other, distance=0):\n",
    "        if len(self) == 0:\n",
    "            raise EmptyGenomicRangesListError(self)\n",
    "        if len(other) == 0:\n",
    "            raise EmptyGenomicRangesListError(other)\n",
    "        self_index, other_index = 0, 0\n",
    "        current_self, current_other = self_index, other_index\n",
    "        while self_index < len(self) and other_index < len(other):\n",
    "            try:\n",
    "                if self[current_self].distance(other[current_other]) < - distance:\n",
    "                    current_other += 1\n",
    "                elif abs(self[current_self].distance(other[current_other])) <= distance:\n",
    "                    self[current_self].neighbours.add(other[current_other])\n",
    "                    current_other += 1\n",
    "                else:\n",
    "                    self_index += 1\n",
    "                    current_self = self_index\n",
    "                    current_other = other_index\n",
    "            except InconsistentChromosomesError:\n",
    "                self_index = current_self\n",
    "                other_index = current_other\n",
    "                if self[self_index].chrom < other[other_index].chrom:\n",
    "                    self_index += 1\n",
    "                    current_self = self_index\n",
    "                else:\n",
    "                    other_index += 1\n",
    "                    current_other = other_index\n",
    "            except IndexError:\n",
    "                if current_other >= len(other):\n",
    "                    current_other = other_index\n",
    "                    current_self += 1\n",
    "                    self_index = current_self\n",
    "                else:\n",
    "                    self_index += 1\n",
    "                    current_self = self_index\n",
    "                    current_other = other_index"
   ]
  },
  {
   "cell_type": "code",
   "execution_count": 5,
   "metadata": {},
   "outputs": [],
   "source": [
    "sample_range_data = [[1, 10, 100, '+'],\n",
    "                     [1, 50, 200, '-'],\n",
    "                     [2, 200, 250, '+'],\n",
    "                     [2, 10, 100, '-']]"
   ]
  },
  {
   "cell_type": "code",
   "execution_count": 6,
   "metadata": {},
   "outputs": [],
   "source": [
    "sample_ranges = [GenomicRange(*i) for i in sample_range_data]"
   ]
  },
  {
   "cell_type": "code",
   "execution_count": 7,
   "metadata": {},
   "outputs": [],
   "source": [
    "rc = GenomicRangesList(sample_ranges)"
   ]
  },
  {
   "cell_type": "code",
   "execution_count": 8,
   "metadata": {},
   "outputs": [],
   "source": [
    "rc.add(GenomicRange(2, 25, 200, '+'))"
   ]
  },
  {
   "cell_type": "code",
   "execution_count": 11,
   "metadata": {},
   "outputs": [
    {
     "name": "stdout",
     "output_type": "stream",
     "text": [
      "RangeList([GenomicRange(1, 10, 100, +), GenomicRange(1, 50, 200, -), GenomicRange(2, 10, 100, -), GenomicRange(2, 25, 200, +), GenomicRange(2, 200, 250, +)], key=<function RangeList.__init__.<locals>.<lambda> at 0x7f81a02bfae8>)\n"
     ]
    }
   ],
   "source": [
    "print(rc)"
   ]
  }
 ],
 "metadata": {
  "kernelspec": {
   "display_name": "Python 3",
   "language": "python",
   "name": "python3"
  },
  "language_info": {
   "codemirror_mode": {
    "name": "ipython",
    "version": 3
   },
   "file_extension": ".py",
   "mimetype": "text/x-python",
   "name": "python",
   "nbconvert_exporter": "python",
   "pygments_lexer": "ipython3",
   "version": "3.7.1"
  }
 },
 "nbformat": 4,
 "nbformat_minor": 2
}
