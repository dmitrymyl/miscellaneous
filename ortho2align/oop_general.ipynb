{
 "cells": [
  {
   "cell_type": "code",
   "execution_count": 1,
   "metadata": {},
   "outputs": [],
   "source": [
    "class GenomicException(Exception):\n",
    "    pass\n",
    "\n",
    "\n",
    "class ChromosomeNotFoundError(GenomicException):\n",
    "    \n",
    "    def __init__(self, chrom, genome, list_of_chroms):\n",
    "        self.chrom = chrom\n",
    "        self.genome = genome\n",
    "        self.list_of_chroms = list_of_chroms\n",
    "        super().__init__(f\"Chromosome {self.chrom} is not \"\n",
    "                         f\"in {self.genome} among these \"\n",
    "                         f\"chromosomes: {', '.join(list_of_chroms)}\")\n",
    "\n",
    "\n",
    "class InconsistentChromosomesError(GenomicException):\n",
    "    \n",
    "    def __init__(self, one_chrom, other_chrom):\n",
    "        self.one_chrom = one_chrom\n",
    "        self.other_chrom = other_chrom\n",
    "        super().__init__(f\"Inconsistent chromosomes of \"\n",
    "                         f\"comparing genomic ranges: \"\n",
    "                         f\"{self.one_chrom} and {self.other_chrom}.\")\n",
    "\n",
    "\n",
    "class InconsistentGenomesError(GenomicException):\n",
    "\n",
    "    def __init__(self, one_genome, other_genome):\n",
    "        self.one_genome = one_genome\n",
    "        self.other_genome = other_genome\n",
    "        super().__init__(f\"Inconsistent genomes of \"\n",
    "                         f\"comparing genomic ranges: \"\n",
    "                         f\"{self.one_genome} and {self.other_genome}.\")\n",
    "\n",
    "#class EmptyGenomicRangesListError(GenomicException):\n",
    "#    \n",
    "#    def __init__(self, range_list_instance):\n",
    "#        self.range_list = range_list_instance\n",
    "#s        super().__init__(f\"Empty GenomicRangesList instance: {self.range_list}\")\n",
    "\n",
    "\n",
    "class GenomicCoordinatesError(GenomicException):\n",
    "    \n",
    "    def __init__(self, grange, chromosome):\n",
    "        self.grange = grange\n",
    "        self.chromosome = chromosome\n",
    "        super().__init__(f\"Coordinates of GenomicRange {self.grange} \"\n",
    "                         f\"are out of chromosome with size {self.chromosome.size}\")\n",
    "        "
   ]
  },
  {
   "cell_type": "code",
   "execution_count": 137,
   "metadata": {},
   "outputs": [],
   "source": [
    "def coroutine(func):\n",
    "    def start(*args, **kwargs):\n",
    "        cr = func(*args, **kwargs)\n",
    "        next(cr)\n",
    "        return cr\n",
    "    return start"
   ]
  },
  {
   "cell_type": "code",
   "execution_count": 138,
   "metadata": {},
   "outputs": [],
   "source": [
    "def read_source(fileobj, total, target):\n",
    "    read_chars = 0\n",
    "    while read_chars < total:\n",
    "        c = fileobj.read(1)\n",
    "        if c == '\\n':\n",
    "            continue\n",
    "        else:\n",
    "            target.send(c)\n",
    "            read_chars += 1\n",
    "    print('Finished reading from file.')\n",
    "    target.close()\n",
    "\n",
    "@coroutine\n",
    "def format_text_stream(target, linewidth=60):\n",
    "    count = 0\n",
    "    while True:\n",
    "        c = (yield)\n",
    "        count += 1\n",
    "        target.send(c)\n",
    "        if count % linewidth == 0:\n",
    "            target.send('\\n')\n",
    "\n",
    "@coroutine\n",
    "def write_text_stream(fileobj):\n",
    "    c = '\\n'\n",
    "    try:\n",
    "        while True:\n",
    "            c = (yield)\n",
    "            fileobj.write(c)\n",
    "    except GeneratorExit:\n",
    "        if c != '\\n':\n",
    "            fileobj.write('\\n')\n",
    "        print('Finished writing to file.')\n",
    "        "
   ]
  },
  {
   "cell_type": "code",
   "execution_count": 139,
   "metadata": {},
   "outputs": [],
   "source": [
    "test_line = \"\".join(['A' if i % 80 else '\\n' for i in range(200)])\n",
    "with open('test.txt', 'w') as outfile:\n",
    "    outfile.write(test_line)\n",
    "    outfile.write('\\n')"
   ]
  },
  {
   "cell_type": "code",
   "execution_count": 140,
   "metadata": {},
   "outputs": [
    {
     "name": "stdout",
     "output_type": "stream",
     "text": [
      "\r\n",
      "AAAAAAAAAAAAAAAAAAAAAAAAAAAAAAAAAAAAAAAAAAAAAAAAAAAAAAAAAAAAAAAAAAAAAAAAAAAAAAA\r\n",
      "AAAAAAAAAAAAAAAAAAAAAAAAAAAAAAAAAAAAAAAAAAAAAAAAAAAAAAAAAAAAAAAAAAAAAAAAAAAAAAA\r\n",
      "AAAAAAAAAAAAAAAAAAAAAAAAAAAAAAAAAAAAAAA\r\n"
     ]
    }
   ],
   "source": [
    "!cat test.txt"
   ]
  },
  {
   "cell_type": "code",
   "execution_count": 141,
   "metadata": {},
   "outputs": [
    {
     "name": "stdout",
     "output_type": "stream",
     "text": [
      "Finished reading from file.\n",
      "Finished writing to file.\n"
     ]
    }
   ],
   "source": [
    "with open('test.txt', 'r') as infile:\n",
    "    with open('test2.txt', 'w') as outfile:\n",
    "        read_source(fileobj=infile, total=150,\n",
    "                    target=format_text_stream(linewidth=60,\n",
    "                                              target=write_text_stream(outfile)))"
   ]
  },
  {
   "cell_type": "code",
   "execution_count": 142,
   "metadata": {},
   "outputs": [
    {
     "name": "stdout",
     "output_type": "stream",
     "text": [
      "AAAAAAAAAAAAAAAAAAAAAAAAAAAAAAAAAAAAAAAAAAAAAAAAAAAAAAAAAAAA$\r\n",
      "AAAAAAAAAAAAAAAAAAAAAAAAAAAAAAAAAAAAAAAAAAAAAAAAAAAAAAAAAAAA$\r\n",
      "AAAAAAAAAAAAAAAAAAAAAAAAAAAAAA$\r\n"
     ]
    }
   ],
   "source": [
    "!cat -E test2.txt"
   ]
  },
  {
   "cell_type": "code",
   "execution_count": 143,
   "metadata": {},
   "outputs": [],
   "source": [
    "def fasta_reformatter(infile, outfile, total, linewidth=60):\n",
    "    read_counter = 0\n",
    "    line_break = False\n",
    "    while read_counter < total:\n",
    "        c = infile.read(1)\n",
    "        if c == \"\\n\":\n",
    "            continue\n",
    "        else:\n",
    "            read_counter += 1\n",
    "            outfile.write(c)\n",
    "            line_break = False\n",
    "            if read_counter % linewidth == 0:\n",
    "                outfile.write('\\n')\n",
    "                line_break = True\n",
    "    if not line_break:\n",
    "        outfile.write('\\n')"
   ]
  },
  {
   "cell_type": "code",
   "execution_count": 144,
   "metadata": {},
   "outputs": [],
   "source": [
    "with open('test.txt', 'r') as infile:\n",
    "    with open('test3.txt', 'w') as outfile:\n",
    "        fasta_reformatter(infile, outfile, 150, linewidth=11)"
   ]
  },
  {
   "cell_type": "code",
   "execution_count": 145,
   "metadata": {},
   "outputs": [
    {
     "name": "stdout",
     "output_type": "stream",
     "text": [
      "AAAAAAAAAAA$\r\n",
      "AAAAAAAAAAA$\r\n",
      "AAAAAAAAAAA$\r\n",
      "AAAAAAAAAAA$\r\n",
      "AAAAAAAAAAA$\r\n",
      "AAAAAAAAAAA$\r\n",
      "AAAAAAAAAAA$\r\n",
      "AAAAAAAAAAA$\r\n",
      "AAAAAAAAAAA$\r\n",
      "AAAAAAAAAAA$\r\n",
      "AAAAAAAAAAA$\r\n",
      "AAAAAAAAAAA$\r\n",
      "AAAAAAAAAAA$\r\n",
      "AAAAAAA$\r\n"
     ]
    }
   ],
   "source": [
    "!cat -E test3.txt"
   ]
  },
  {
   "cell_type": "code",
   "execution_count": 12,
   "metadata": {},
   "outputs": [
    {
     "data": {
      "text/plain": [
       "[1, 2, 3, 4, 5, 6]"
      ]
     },
     "execution_count": 12,
     "metadata": {},
     "output_type": "execute_result"
    }
   ],
   "source": [
    "test_list = [[1, 2], [3, 4], [5, 6]]\n",
    "sum(test_list, [])"
   ]
  },
  {
   "cell_type": "code",
   "execution_count": 20,
   "metadata": {},
   "outputs": [
    {
     "data": {
      "text/plain": [
       "['-key1', 'arg1', '-key2', 'arg2', '-key3', 'arg3']"
      ]
     },
     "execution_count": 20,
     "metadata": {},
     "output_type": "execute_result"
    }
   ],
   "source": [
    "test_dict = {'key1': 'arg1', 'key2': 'arg2', 'key3': 'arg3'}\n",
    "sum((['-' + key, value] for key, value in test_dict.items()), [])"
   ]
  },
  {
   "cell_type": "code",
   "execution_count": 147,
   "metadata": {},
   "outputs": [],
   "source": [
    "from subprocess import Popen, PIPE\n",
    "\n",
    "class GenomicRange:\n",
    "    def __init__(self, chrom, start, end, strand,\n",
    "                 genome=None, sequence_file_loc=None,\n",
    "                 synteny=None, neighbours=None, **kwargs):\n",
    "        self.chrom = chrom\n",
    "        self.start = start\n",
    "        self.end = end\n",
    "        self.strand = strand\n",
    "        self.genome = genome\n",
    "        self._sequence_file_loc = sequence_file_loc\n",
    "        self._sequence_header = None\n",
    "        self.connections = {'synteny':, (GenomicRangesList([], self.genome)\n",
    "                                         if synteny is None else synteny)\n",
    "                            'neighbours': (GenomicRangesList([], self.genome)\n",
    "                                           if neighbours is None else neighbours)}\n",
    "    \n",
    "    def __repr__(self):\n",
    "        return f\"GenomicRange({self.chrom}, {self.start}, {self.end}, {self.strand})\"\n",
    "    \n",
    "    def __str__(self):\n",
    "        return f\"{self.chrom}\\t{self.start}\\t{self.end}\\t{self.strand}\"\n",
    "    \n",
    "    def distance(self, other):\n",
    "        if self.chrom != other.chrom:\n",
    "            raise InconsistentChromosomosesError(self.chrom, other.chrom)\n",
    "        if self.genome != other.genome:\n",
    "            raise InconsistentGenomesError(self.genome, other.genome)\n",
    "        if self.end < other.start:\n",
    "            return other.start - self.end\n",
    "        if other.end < self.start:\n",
    "            return other.end - self.start\n",
    "        return 0\n",
    "    \n",
    "    def merge(self, other):\n",
    "        if self.chrom != other.chrom:\n",
    "            raise InconsistentChromosomosesError(self.chrom, other.chrom)\n",
    "        if self.genome != other.genome:\n",
    "            raise InconsistentGenomesError(self.genome, other.genome)\n",
    "        start = min(self.start, other.start)\n",
    "        end = max(self.end, other.end)\n",
    "        return GenomicRange(chrom=self.chrom,\n",
    "                            start=start,\n",
    "                            end=end,\n",
    "                            strand=\".\",\n",
    "                            genome=self.genome)\n",
    "\n",
    "    def align(self, connection='synteny', **kwargs):\n",
    "        if connection not in self.connections:\n",
    "            raise KeyError(f\"There is no {connection} connections for the {self}.\")\n",
    "        for grange in self.connections[connection]:\n",
    "            command = ['blastn',\n",
    "                       '-task', 'blastn',\n",
    "                       '-query', self._sequence_file_loc,\n",
    "                       '-subject', grange._sequence_file_loc,\n",
    "                       '-outfmt', '\"7 std score\"']\n",
    "            add_args = sum((['-' + key, value]\n",
    "                            for key, value in kwargs.items()),\n",
    "                           [])\n",
    "            with Popen(command + add_args, stdout=PIPE) as proc:\n",
    "                alignment = proc.stdout.read()\n",
    "                #TODO: add alignment module\n",
    "\n",
    "    @property\n",
    "    def sequence_header(self):\n",
    "        if self._sequence_header is None:\n",
    "            self._sequence_header = f\"{self.chrom}:{self.start}\" \\\n",
    "                                 f\"-{self.end}{self.strand}\"\n",
    "        return self._sequence_header\n",
    "    \n",
    "    def merge_connections(self, distance=0, connection='synteny'):\n",
    "        try:\n",
    "            self.connections[connection] = self.connections[connection].merge(distance)\n",
    "        except KeyError:\n",
    "            raise KeyError(f\"There is no {connection} connections for the {self}.\")"
   ]
  },
  {
   "cell_type": "code",
   "execution_count": 46,
   "metadata": {},
   "outputs": [],
   "source": [
    "from collections import namedtuple\n",
    "\n",
    "\n",
    "ChromosomeLocation = namedtuple('ChromosomeLocation', 'size start')\n",
    "\n",
    "\n",
    "class FastaSeqFile:\n",
    "    def __init__(self, location):\n",
    "        self.location = location\n",
    "        self._chromsizes = dict()\n",
    "        self._file_obj = None\n",
    "    \n",
    "    @property\n",
    "    def chromsizes(self):\n",
    "        if not self._chromsizes:\n",
    "            with open(self.location, 'r') as infile:\n",
    "                chrom, size, start = None, None, None\n",
    "                line = infile.readline()\n",
    "                while line:\n",
    "                    if line.startswith(\">\"):\n",
    "                        self._chromsizes[chrom] = ChromosomeLocation(size, start)\n",
    "                        chrom = line.lstrip(\">\").rstrip().split()[0]\n",
    "                        size = 0\n",
    "                        start = None\n",
    "                    else:\n",
    "                        if start is None:\n",
    "                            start = infile.tell() - len(line)\n",
    "                        size += len(line.strip())\n",
    "                    line = infile.readline()\n",
    "                self._chromsizes[chrom] = ChromosomeLocation(size, start)\n",
    "                del self._chromsizes[None]\n",
    "        return self._chromsizes\n",
    "    \n",
    "    def __enter__(self):\n",
    "        self._file_obj = open(self.location, 'r')\n",
    "    \n",
    "    def __exit__(self, exc_type, exc_val, exc_tb):\n",
    "        self._file_obj.close()\n",
    "\n",
    "    def get_fasta_by_coord(self, grange, outfile):\n",
    "        try:\n",
    "            _, start = self.chromsizes[grange.chrom].start\n",
    "        except KeyError:\n",
    "            raise ChromosomeNotFoundError(grange.chrom,\n",
    "                                          self.location,\n",
    "                                          self.chromsizes.keys())\n",
    "        if grange.end > self.chromsizes[grange.chrom].size:\n",
    "            raise GenomicCoordinatesError(grange, self.chromsizes[grange.chrom])\n",
    "        self._file_obj.seek(start + grange.start, 0)\n",
    "        outfile.write(\">\" + grange.sequence_header + \"\\n\")\n",
    "        fasta_reformatter(self._file_obj,\n",
    "                          outfile,\n",
    "                          total=(grange.end - grange.start),\n",
    "                          linewidth=60)"
   ]
  },
  {
   "cell_type": "code",
   "execution_count": 42,
   "metadata": {},
   "outputs": [],
   "source": [
    "!echo \">chrom1 test1\\nAAA\\nTTT\\n\\n>chrom2 test2\\nGGGGG\" > test.fasta"
   ]
  },
  {
   "cell_type": "code",
   "execution_count": 43,
   "metadata": {},
   "outputs": [
    {
     "name": "stdout",
     "output_type": "stream",
     "text": [
      ">chrom1 test1\r\n",
      "AAA\r\n",
      "TTT\r\n",
      "\r\n",
      ">chrom2 test2\r\n",
      "GGGGG\r\n"
     ]
    }
   ],
   "source": [
    "!cat test.fasta"
   ]
  },
  {
   "cell_type": "code",
   "execution_count": 47,
   "metadata": {},
   "outputs": [],
   "source": [
    "fs = FastaSeqFile('test.fasta')"
   ]
  },
  {
   "cell_type": "code",
   "execution_count": 54,
   "metadata": {},
   "outputs": [
    {
     "name": "stdout",
     "output_type": "stream",
     "text": [
      "{'chrom1': ChromosomeLocation(size=6, start=14), 'chrom2': ChromosomeLocation(size=5, start=37)}\n"
     ]
    }
   ],
   "source": [
    "print(fs.chromsizes)"
   ]
  },
  {
   "cell_type": "code",
   "execution_count": 22,
   "metadata": {},
   "outputs": [
    {
     "ename": "AttributeError",
     "evalue": "can't set attribute",
     "output_type": "error",
     "traceback": [
      "\u001b[0;31m---------------------------------------------------------------------------\u001b[0m",
      "\u001b[0;31mAttributeError\u001b[0m                            Traceback (most recent call last)",
      "\u001b[0;32m<ipython-input-22-fe09b6d6ca44>\u001b[0m in \u001b[0;36m<module>\u001b[0;34m\u001b[0m\n\u001b[0;32m----> 1\u001b[0;31m \u001b[0mfs\u001b[0m\u001b[0;34m.\u001b[0m\u001b[0mchromsizes\u001b[0m \u001b[0;34m=\u001b[0m \u001b[0;32mNone\u001b[0m\u001b[0;34m\u001b[0m\u001b[0;34m\u001b[0m\u001b[0m\n\u001b[0m",
      "\u001b[0;31mAttributeError\u001b[0m: can't set attribute"
     ]
    }
   ],
   "source": [
    "#fs.chromsizes = None"
   ]
  },
  {
   "cell_type": "code",
   "execution_count": 3,
   "metadata": {},
   "outputs": [],
   "source": [
    "from sortedcontainers import SortedKeyList"
   ]
  },
  {
   "cell_type": "code",
   "execution_count": 4,
   "metadata": {},
   "outputs": [],
   "source": [
    "class GenomicRangesList(SortedKeyList):\n",
    "    #TODO: add reading from file (bed, gff, gtf)\n",
    "    #TODO: parsing orthodb-synteny output\n",
    "\n",
    "    def __init__(self, collection=[], genome=None):\n",
    "        super().__init__(iterable=collection, key=lambda x: (x.chrom, x.start, x.end))\n",
    "        self.genome = genome\n",
    "        self.source = FastaSeqFile(self.genome)\n",
    "    \n",
    "    def merge(self, distance=0):\n",
    "        if len(self) == 0:\n",
    "            raise EmptyGenomicRangesListError(self)\n",
    "        new_range_list = GenomicRangesList([], self.genome)\n",
    "        new_range_list.add(self[0])\n",
    "        new_index = 0\n",
    "        for grange in self[1:]:\n",
    "            try:\n",
    "                if abs(new_range_list[new_index].distance(grange)) <= distance:\n",
    "                    new_range_list[new_index] = new_range_list[new_index].merge(grange)\n",
    "                else:\n",
    "                    new_range_list.add(grange)\n",
    "                    new_index += 1\n",
    "            except InconsistentChromosomesError:\n",
    "                new_range_list.add(grange)\n",
    "                new_index += 1\n",
    "        return new_range_list\n",
    "    \n",
    "    def get_neighbours(self, other, distance=0):\n",
    "        self_index, other_index = 0, 0\n",
    "        current_self, current_other = self_index, other_index\n",
    "        while self_index < len(self) and other_index < len(other):\n",
    "            try:\n",
    "                if self[current_self].distance(other[current_other]) < - distance:\n",
    "                    current_other += 1\n",
    "                elif abs(self[current_self].distance(other[current_other])) <= distance:\n",
    "                    self[current_self].connections['neighbours'].add(other[current_other])\n",
    "                    current_other += 1\n",
    "                else:\n",
    "                    self_index += 1\n",
    "                    current_self = self_index\n",
    "                    current_other = other_index\n",
    "            except InconsistentChromosomesError:\n",
    "                self_index = current_self\n",
    "                other_index = current_other\n",
    "                if self[self_index].chrom < other[other_index].chrom:\n",
    "                    self_index += 1\n",
    "                    current_self = self_index\n",
    "                else:\n",
    "                    other_index += 1\n",
    "                    current_other = other_index\n",
    "            except IndexError:\n",
    "                if current_other >= len(other):\n",
    "                    current_other = other_index\n",
    "                    current_self += 1\n",
    "                    self_index = current_self\n",
    "                else:\n",
    "                    self_index += 1\n",
    "                    current_self = self_index\n",
    "                    current_other = other_index\n",
    "    \n",
    "    def get_fasta(self, outfile, mode='split'):\n",
    "        with self.source:\n",
    "            if mode == 'split':\n",
    "                for grange in self:\n",
    "                    with open(outfile + grange.sequence_header + '.fasta', 'w') as output:\n",
    "                        self.source.get_fasta_by_coord(grange, output)\n",
    "            elif mode == 'bulk':\n",
    "                with open(outfile + '.fasta', 'w') as output:\n",
    "                    for grange in self:\n",
    "                        self.source.get_fasta_by_coord(grange, output)\n",
    "            else:\n",
    "                raise ValueError(\"Invalid get fasta mode.\")"
   ]
  },
  {
   "cell_type": "code",
   "execution_count": 5,
   "metadata": {},
   "outputs": [],
   "source": [
    "sample_range_data = [[1, 10, 100, '+'],\n",
    "                     [1, 50, 200, '-'],\n",
    "                     [2, 200, 250, '+'],\n",
    "                     [2, 10, 100, '-']]"
   ]
  },
  {
   "cell_type": "code",
   "execution_count": 6,
   "metadata": {},
   "outputs": [],
   "source": [
    "sample_ranges = [GenomicRange(*i) for i in sample_range_data]"
   ]
  },
  {
   "cell_type": "code",
   "execution_count": 7,
   "metadata": {},
   "outputs": [],
   "source": [
    "rc = GenomicRangesList(sample_ranges)"
   ]
  },
  {
   "cell_type": "code",
   "execution_count": 8,
   "metadata": {},
   "outputs": [],
   "source": [
    "rc.add(GenomicRange(2, 25, 200, '+'))"
   ]
  },
  {
   "cell_type": "code",
   "execution_count": 11,
   "metadata": {},
   "outputs": [
    {
     "name": "stdout",
     "output_type": "stream",
     "text": [
      "RangeList([GenomicRange(1, 10, 100, +), GenomicRange(1, 50, 200, -), GenomicRange(2, 10, 100, -), GenomicRange(2, 25, 200, +), GenomicRange(2, 200, 250, +)], key=<function RangeList.__init__.<locals>.<lambda> at 0x7f81a02bfae8>)\n"
     ]
    }
   ],
   "source": [
    "print(rc)"
   ]
  },
  {
   "cell_type": "code",
   "execution_count": 9,
   "metadata": {},
   "outputs": [],
   "source": [
    "a = 5\n",
    "b = (a\n",
    "     if a == 5 else 10)"
   ]
  }
 ],
 "metadata": {
  "kernelspec": {
   "display_name": "Python 3",
   "language": "python",
   "name": "python3"
  },
  "language_info": {
   "codemirror_mode": {
    "name": "ipython",
    "version": 3
   },
   "file_extension": ".py",
   "mimetype": "text/x-python",
   "name": "python",
   "nbconvert_exporter": "python",
   "pygments_lexer": "ipython3",
   "version": "3.7.1"
  }
 },
 "nbformat": 4,
 "nbformat_minor": 2
}
